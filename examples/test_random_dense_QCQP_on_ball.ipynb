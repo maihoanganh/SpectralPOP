{
 "cells": [
  {
   "cell_type": "code",
   "execution_count": 5,
   "metadata": {},
   "outputs": [
    {
     "name": "stdout",
     "output_type": "stream",
     "text": [
      "***Problem setting***\n",
      "Number of variables: n=2\n",
      "====================\n",
      "Number of inequality constraints: l_g=1\n",
      "====================\n",
      "Number of equality constraints: l_h=1\n",
      "====================\n",
      "Relaxation order: k=2\n"
     ]
    }
   ],
   "source": [
    "using DynamicPolynomials\n",
    "\n",
    "println(\"***Problem setting***\")\n",
    "\n",
    "\n",
    "\n",
    "n=2\n",
    "# N=[10;15;20;25;30;35]\n",
    "\n",
    "# for n in N\n",
    "l_g=ceil(Int32, n/8)\n",
    "l_h=ceil(Int32, n/8)\n",
    "\n",
    "println(\"Number of variables: n=\",n)\n",
    "println(\"====================\")\n",
    "\n",
    "@polyvar x[1:n]# variables\n",
    "\n",
    "\n",
    "\n",
    "# random quadratic objective function f\n",
    "v=reverse(monomials(x,0:2))\n",
    "c=2*rand(Float64,length(v)).-1\n",
    "f=c'*v\n",
    "\n",
    "\n",
    "# unit sphere constraint\n",
    "R=1.0\n",
    "g=[R-sum(x.^2)] #type of coefficients of each polynomial must be float\n",
    "\n",
    "\n",
    "\n",
    "# random quadratic equality constraints\n",
    "randx=2*rand(n).-1# create a feasible solution\n",
    "randx=randx./sqrt(sum(randx.^2))\n",
    "randx=randx.*rand(1)\n",
    "\n",
    "for j in 1:l_g-1\n",
    "    a=2*rand(Float64,length(v[2:end])).-1\n",
    "    push!(g,a'*v[2:end])\n",
    "    g[end]-=g[end](x => randx)#make constraints feasible\n",
    "    g[end]+=rand(1)[1]\n",
    "end\n",
    "#g=Polynomial{true,Float64}[]\n",
    "l_g=length(g)\n",
    "println(\"Number of inequality constraints: l_g=\",l_g)\n",
    "println(\"====================\")\n",
    "\n",
    "h=Polynomial{true,Float64}[]\n",
    "for j in 1:l_h\n",
    "    a=2*rand(Float64,length(v[2:end])).-1\n",
    "    push!(h,a'*v[2:end])\n",
    "    h[end]-=h[end](x => randx) #make constraints feasible\n",
    "end\n",
    "l_h=length(h)\n",
    "\n",
    "println(\"Number of equality constraints: l_h=\",l_h)\n",
    "println(\"====================\")\n",
    "\n",
    "k=2\n",
    "\n",
    "println(\"Relaxation order: k=\",k)\n",
    "    \n",
    "    \n",
    "# include(\"../src/SpectralSOS.jl\")\n",
    "# using .SpectralSOS\n",
    "\n",
    "# SpectralSOS.save_data(x,f,g,h,R)\n",
    "    \n",
    "# end"
   ]
  },
  {
   "cell_type": "code",
   "execution_count": 6,
   "metadata": {},
   "outputs": [],
   "source": [
    "# using SparseArrays, DynamicPolynomials\n",
    "\n",
    "# include(\"../src/SpectralSOS.jl\")\n",
    "# using .SpectralSOS\n",
    "\n",
    "\n",
    "\n",
    "# include(\"../examples/densePOPsphere_deg2_var10_nineq2_neq2.jl\")\n",
    "\n",
    "# x,f,g,h=SpectralSOS.get_POP(n,m,l,lmon_g,supp_g,coe_g,lmon_h,supp_h,coe_h,lmon_f,supp_f,coe_f);\n",
    "\n",
    "\n",
    "# k=2"
   ]
  },
  {
   "cell_type": "code",
   "execution_count": 7,
   "metadata": {},
   "outputs": [
    {
     "name": "stdout",
     "output_type": "stream",
     "text": [
      "**SumOfSquares+Mosek:\n",
      "OPTIMAL\n",
      "opt_val=-1.485282413992094\n",
      "  0.030891 seconds (26.02 k allocations: 1.727 MiB)\n"
     ]
    },
    {
     "name": "stderr",
     "output_type": "stream",
     "text": [
      "WARNING: replacing module SpectralSOS.\n"
     ]
    },
    {
     "data": {
      "text/plain": [
       "-1.485282413992094"
      ]
     },
     "execution_count": 7,
     "metadata": {},
     "output_type": "execute_result"
    }
   ],
   "source": [
    "include(\"../src/SpectralSOS.jl\")\n",
    "using .SpectralSOS\n",
    "\n",
    "opt_val = SpectralSOS.SumofSquares_POP(x,f,g,h,k)"
   ]
  },
  {
   "cell_type": "code",
   "execution_count": 8,
   "metadata": {},
   "outputs": [
    {
     "name": "stdout",
     "output_type": "stream",
     "text": [
      "**Computing the upper bound 1\n",
      "**Constant trace property (CTP):\n",
      "**Converting the moment relaxation to the standard SDP:\n",
      "  Size of psd matrix: sk=10\n",
      "  Number of trace equality constraints: m=41\n",
      "  0.064075 seconds (52.93 k allocations: 2.764 MiB)\n",
      "**LMBM solver:"
     ]
    },
    {
     "name": "stderr",
     "output_type": "stream",
     "text": [
      "WARNING: replacing module SpectralSOS.\n"
     ]
    },
    {
     "name": "stdout",
     "output_type": "stream",
     "text": [
      "\n",
      "---------------\n",
      "| Parameters: |\n",
      "---------------\n",
      "n:       41\n",
      "maxtime: 300000.000000\n",
      "na:      2\n",
      "mcu:     5\n",
      "mc:      7\n",
      "rpar: \n",
      "ipar: \n",
      "-----------\n",
      "| Output: |\n",
      "-----------\n",
      "Termination:     1\n",
      "N. iter.:        39\n",
      "N. func. eval.:  107\n",
      "Final value:     0.203463\n",
      "Execution time:  0.100327\n",
      "  1.291501 seconds (732.23 k allocations: 40.775 MiB, 2.37% gc time)\n",
      "------------------------------------\n",
      "**Numerical result:\n",
      "====================================\n",
      "opt_val=-0.9967598490750429\n",
      "====================================\n",
      "Dimension of the null space of Gram matrix = 2\n",
      "------------------------------------\n",
      "atom 1:\n",
      "####################################\n",
      "It is an approximate optimal solution!\n",
      "####################################\n",
      "------------------------------------\n",
      "atom 2:\n",
      "####################################\n",
      "It is an approximate optimal solution!\n",
      "####################################\n",
      "  0.000869 seconds (819 allocations: 47.234 KiB)\n",
      "  1.357110 seconds (787.00 k allocations: 43.609 MiB, 2.25% gc time)\n",
      "--------------------------\n",
      "  Radius of big ball: R_bar=1.996759849075043\n",
      "**Constant trace property (CTP):\n",
      "**Converting the moment relaxation to the standard SDP:\n",
      "  Size of psd matrix: sk=15\n",
      "  Number of trace equality constraints: m=96\n",
      "  0.000690 seconds (5.03 k allocations: 497.125 KiB)\n",
      "**LMBM solver:\n",
      "---------------\n",
      "| Parameters: |\n",
      "---------------\n",
      "n:       96\n",
      "maxtime: 300000.000000\n",
      "na:      2\n",
      "mcu:     5\n",
      "mc:      7\n",
      "rpar: \n",
      "ipar: \n",
      "-----------\n",
      "| Output: |\n",
      "-----------\n",
      "Termination:     1\n",
      "N. iter.:        84\n",
      "N. func. eval.:  125\n",
      "Final value:     0.165394\n",
      "Execution time:  0.027313\n",
      "  0.028172 seconds (23.91 k allocations: 2.416 MiB)\n",
      "------------------------------------\n",
      "**Numerical result:\n",
      "====================================\n",
      "opt_val=-1.4853281146896944\n",
      "====================================\n",
      "Dimension of the null space of Gram matrix = 2\n",
      "------------------------------------\n",
      "atom 1:\n",
      "####################################\n",
      "It is an approximate optimal solution!\n",
      "####################################\n",
      "------------------------------------\n",
      "atom 2:\n",
      "####################################\n",
      "It is an approximate optimal solution!\n",
      "####################################\n",
      "  0.000680 seconds (952 allocations: 69.047 KiB)\n",
      "  0.030025 seconds (30.93 k allocations: 2.994 MiB)\n",
      "  1.387842 seconds (819.29 k allocations: 46.648 MiB, 2.20% gc time)\n"
     ]
    },
    {
     "data": {
      "text/plain": [
       "(-1.4853281146896944, [0.9643854815106718, 0.27124436510109684])"
      ]
     },
     "execution_count": 8,
     "metadata": {},
     "output_type": "execute_result"
    }
   ],
   "source": [
    "include(\"../src/SpectralSOS.jl\")\n",
    "using .SpectralSOS  \n",
    "\n",
    "opt_val,opt_sol = SpectralSOS.CTP_POP_on_Ball(x,f,g,h,k,R,EigAlg=\"Mix\",scale=true)"
   ]
  },
  {
   "cell_type": "code",
   "execution_count": 9,
   "metadata": {},
   "outputs": [
    {
     "name": "stdout",
     "output_type": "stream",
     "text": [
      "**Bounded trace property (BTP):\n",
      "  Largest upper bound of psd matrix: bound_ak=15.0\n",
      "  Number of blocks: numBloc=3\n",
      "  Size of block-diagonal matrix: s=10\n",
      "  Size of blocks: [6, 3, 1]\n",
      "  Number of trace equality constraints: m=19\n",
      " "
     ]
    },
    {
     "name": "stderr",
     "output_type": "stream",
     "text": [
      "WARNING: replacing module SpectralSOS.\n"
     ]
    },
    {
     "name": "stdout",
     "output_type": "stream",
     "text": [
      " 0.216143 seconds (238.16 k allocations: 12.082 MiB)\n",
      "***LMBM solver:***\n",
      "---------------\n",
      "| Parameters: |\n",
      "---------------\n",
      "n:       19\n",
      "maxtime: 300000.000000\n",
      "na:      2\n",
      "mcu:     5\n",
      "mc:      7\n",
      "rpar: \n",
      "ipar: \n",
      "-----------\n",
      "| Output: |\n",
      "-----------\n",
      "Termination:     1\n",
      "N. iter.:        132\n",
      "N. func. eval.:  241\n",
      "Final value:     0.097616\n",
      "Execution time:  0.248444\n",
      "####################################\n",
      "opt_val = -1.4869769682551168\n",
      "####################################\n",
      "Dimension of the null space of Gram matrix = 1\n",
      "------------------------------------\n",
      "atom 1:\n",
      "####################################\n",
      "It is an approximate optimal solution!\n",
      "####################################\n",
      "  0.640567 seconds (638.87 k allocations: 35.186 MiB, 3.24% gc time)\n"
     ]
    },
    {
     "data": {
      "text/plain": [
       "(-1.4869769682551168, [0.9892418513303098, 0.28290025636016675])"
      ]
     },
     "execution_count": 9,
     "metadata": {},
     "output_type": "execute_result"
    }
   ],
   "source": [
    "include(\"../src/SpectralSOS.jl\")\n",
    "using .SpectralSOS\n",
    "\n",
    "opt_val,opt_sol = SpectralSOS.BTP_POP(x,f,g,h,k,R,EigAlg=\"Mix\",scale=true)"
   ]
  },
  {
   "cell_type": "code",
   "execution_count": null,
   "metadata": {},
   "outputs": [],
   "source": []
  },
  {
   "cell_type": "code",
   "execution_count": null,
   "metadata": {},
   "outputs": [],
   "source": [
    "# include(\"../src/SpectralSOS.jl\")\n",
    "# using .SpectralSOS\n",
    "\n",
    "# SpectralSOS.save_data(x,f,g,h,R)"
   ]
  },
  {
   "cell_type": "code",
   "execution_count": null,
   "metadata": {},
   "outputs": [],
   "source": []
  }
 ],
 "metadata": {
  "kernelspec": {
   "display_name": "Julia 1.3.0",
   "language": "julia",
   "name": "julia-1.3"
  },
  "language_info": {
   "file_extension": ".jl",
   "mimetype": "application/julia",
   "name": "julia",
   "version": "1.3.0"
  }
 },
 "nbformat": 4,
 "nbformat_minor": 2
}
