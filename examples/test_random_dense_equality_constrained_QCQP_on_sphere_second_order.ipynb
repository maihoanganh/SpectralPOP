{
 "cells": [
  {
   "cell_type": "code",
   "execution_count": 1,
   "metadata": {},
   "outputs": [
    {
     "name": "stdout",
     "output_type": "stream",
     "text": [
      "***Problem setting***\n",
      "Number of variables: n=2\n",
      "====================\n",
      "Number of equality constraints: l_h=2\n",
      "====================\n",
      "Relaxation order: k=2\n"
     ]
    }
   ],
   "source": [
    "using DynamicPolynomials\n",
    "\n",
    "println(\"***Problem setting***\")\n",
    "\n",
    "n=2\n",
    "\n",
    "#N=[5;10;15;20;25;30;35;40;45;50;55;60;65]\n",
    "\n",
    "l=ceil(Int32, n/4)\n",
    "\n",
    "println(\"Number of variables: n=\",n)\n",
    "println(\"====================\")\n",
    "\n",
    "@polyvar x[1:n]# variables\n",
    "\n",
    "function generate_random_poly(v::Vector{Monomial{true}})\n",
    "    c=2*rand(Float64,length(v)).-1\n",
    "    return c'*v\n",
    "end\n",
    "\n",
    "R=1.0\n",
    "\n",
    "function generate_objective_and_constraints(x)\n",
    "    # random quadratic objective function f\n",
    "    v=reverse(monomials(x,0:2))\n",
    "    f=generate_random_poly(v)\n",
    "\n",
    "\n",
    "    # unit sphere constraint\n",
    "    h=[R-sum(x.^2)] #type of coefficients of each polynomial must be float\n",
    "\n",
    "    # random quadratic equality constraints\n",
    "    randx=2*rand(n).-1# create a feasible solution\n",
    "    randx=randx./sqrt(sum(randx.^2))\n",
    "\n",
    "\n",
    "    for j in 1:l\n",
    "        push!(h,generate_random_poly(v[2:end]))\n",
    "        h[end]-=h[end](x => randx) #make constraints feasible\n",
    "    end\n",
    "    l_h=length(h)\n",
    "\n",
    "    println(\"Number of equality constraints: l_h=\",l_h)\n",
    "    println(\"====================\")\n",
    "    return f,h\n",
    "end\n",
    "\n",
    "\n",
    "f,h=generate_objective_and_constraints(x)\n",
    "\n",
    "k=Int64(2)\n",
    "\n",
    "println(\"Relaxation order: k=\",k)\n",
    "\n",
    "\n",
    "# include(\"../src/SpectralSOS.jl\")\n",
    "# using .SpectralSOS\n",
    "\n",
    "# g=Vector{Polynomial{true,Float64}}([])\n",
    "\n",
    "# SpectralSOS.save_data(x,f,g,h,R)"
   ]
  },
  {
   "cell_type": "code",
   "execution_count": 2,
   "metadata": {},
   "outputs": [],
   "source": [
    "# using SparseArrays\n",
    "\n",
    "# include(\"../src/SpectralSOS.jl\")\n",
    "# using .SpectralSOS\n",
    "\n",
    "\n",
    "\n",
    "# include(\"../examples/densePOPsphere_deg2_var50_nineq0_neq14.jl\")\n",
    "\n",
    "# x,f,g,h=SpectralSOS.get_POP(n,m,l,lmon_g,supp_g,coe_g,lmon_h,supp_h,coe_h,lmon_f,supp_f,coe_f);\n",
    "\n",
    "\n",
    "# k=1"
   ]
  },
  {
   "cell_type": "code",
   "execution_count": 8,
   "metadata": {},
   "outputs": [
    {
     "name": "stdout",
     "output_type": "stream",
     "text": [
      "**SumOfSquares+Mosek:\n",
      "OPTIMAL\n",
      "opt_val=-0.9004198914557354\n",
      "  0.005592 seconds (9.88 k allocations: 932.406 KiB)\n"
     ]
    },
    {
     "name": "stderr",
     "output_type": "stream",
     "text": [
      "WARNING: replacing module SpectralSOS.\n"
     ]
    },
    {
     "data": {
      "text/plain": [
       "-0.9004198914557354"
      ]
     },
     "execution_count": 8,
     "metadata": {},
     "output_type": "execute_result"
    }
   ],
   "source": [
    "include(\"../src/SpectralSOS.jl\")\n",
    "using .SpectralSOS\n",
    "\n",
    "g=Vector{Polynomial{true,Float64}}([])\n",
    "opt_val = SpectralSOS.SumofSquares_POP(x,f,g,h,k) # SumOfSquares.jl + Mosek"
   ]
  },
  {
   "cell_type": "code",
   "execution_count": 9,
   "metadata": {},
   "outputs": [
    {
     "name": "stdout",
     "output_type": "stream",
     "text": [
      "**Constant trace property (CTP):\n",
      "**Converting the moment relaxation to the standard SDP:\n",
      "  Size of psd matrix: sk=6\n",
      "  Number of trace equality constraints: m=19\n",
      "  0.043157 seconds (51.66 k allocations: 2.619 MiB)\n"
     ]
    },
    {
     "name": "stderr",
     "output_type": "stream",
     "text": [
      "WARNING: replacing module SpectralSOS.\n"
     ]
    },
    {
     "name": "stdout",
     "output_type": "stream",
     "text": [
      "**LMBM solver:\n",
      "---------------\n",
      "| Parameters: |\n",
      "---------------\n",
      "n:       19\n",
      "maxtime: 300000.000000\n",
      "na:      2\n",
      "mcu:     5\n",
      "mc:      7\n",
      "rpar: \n",
      "ipar: \n",
      "-----------\n",
      "| Output: |\n",
      "-----------\n",
      "Termination:     1\n",
      "N. iter.:        14\n",
      "N. func. eval.:  15\n",
      "Final value:     0.363435\n",
      "Execution time:  0.067230\n",
      "  1.136887 seconds (718.21 k allocations: 39.630 MiB)\n",
      "------------------------------------\n",
      "**Numerical result:\n",
      "====================================\n",
      "opt_val=-0.9004230958078471\n",
      "====================================\n",
      "Dimension of the null space of Gram matrix = 1\n",
      "------------------------------------\n",
      "atom 1:\n",
      "####################################\n",
      "It is an approximate optimal solution!\n",
      "####################################\n",
      "  0.000384 seconds (459 allocations: 24.734 KiB)\n",
      "  1.180875 seconds (771.27 k allocations: 42.294 MiB)\n"
     ]
    },
    {
     "data": {
      "text/plain": [
       "(-0.9004230958078471, [-0.9954162298954565, -0.06488576100858025])"
      ]
     },
     "execution_count": 9,
     "metadata": {},
     "output_type": "execute_result"
    }
   ],
   "source": [
    "include(\"../src/SpectralSOS.jl\")\n",
    "using .SpectralSOS\n",
    "\n",
    "opt_val,opt_sol = SpectralSOS.CTP_POP(x,f,h,k,R;method=\"LMBM\",EigAlg=\"Mix\",tol=1e-5,scale=true) #Limited memory bundle method"
   ]
  },
  {
   "cell_type": "code",
   "execution_count": 10,
   "metadata": {
    "scrolled": true
   },
   "outputs": [
    {
     "name": "stdout",
     "output_type": "stream",
     "text": [
      "**Constant trace property (CTP):\n",
      "**Converting the moment relaxation to the standard SDP:\n",
      "  Size of psd matrix: sk=6\n",
      "  Number of trace equality constraints: m=19\n",
      "  0.046847 seconds (51.66 k allocations: 2.623 MiB)\n"
     ]
    },
    {
     "name": "stderr",
     "output_type": "stream",
     "text": [
      "WARNING: replacing module SpectralSOS.\n"
     ]
    },
    {
     "name": "stdout",
     "output_type": "stream",
     "text": [
      "**SketchyCGAL solver:\n",
      "* status = stopping criteria met\n",
      "  1.212759 seconds (971.26 k allocations: 84.503 MiB, 2.24% gc time)\n",
      "------------------------------------\n",
      "**Numerical result:\n",
      "====================================\n",
      "opt_val=-0.8855181866886944\n",
      "====================================\n",
      "Rank of moment matrix = 6\n",
      "  0.000090 seconds (81 allocations: 5.516 KiB)\n",
      "  1.260471 seconds (1.02 M allocations: 87.154 MiB, 2.15% gc time)\n"
     ]
    },
    {
     "data": {
      "text/plain": [
       "(-0.8855181866886944, Array{Float64,1}[])"
      ]
     },
     "execution_count": 10,
     "metadata": {},
     "output_type": "execute_result"
    }
   ],
   "source": [
    "include(\"../src/SpectralSOS.jl\")\n",
    "using .SpectralSOS\n",
    "\n",
    "opt_val,opt_sol = SpectralSOS.CTP_POP(x,f,h,k,R;method=\"SketchyCGAL\",EigAlg=\"Normal\",tol=1e-3,scale=true)"
   ]
  },
  {
   "cell_type": "code",
   "execution_count": null,
   "metadata": {},
   "outputs": [],
   "source": []
  },
  {
   "cell_type": "code",
   "execution_count": 7,
   "metadata": {},
   "outputs": [],
   "source": [
    "# include(\"../src/SpectralSOS.jl\")\n",
    "# using .SpectralSOS\n",
    "\n",
    "# g=Vector{Polynomial{true,Float64}}([])\n",
    "\n",
    "# SpectralSOS.save_data(x,f,g,h,R)"
   ]
  },
  {
   "cell_type": "code",
   "execution_count": 14,
   "metadata": {
    "scrolled": true
   },
   "outputs": [],
   "source": [
    "# include(\"../src/SpectralPOP.jl\")\n",
    "# using .SpectralPOP\n",
    "\n",
    "# g=Vector{Polynomial{true,Float64}}([])\n",
    "\n",
    "# opt_val,opt_sol = SpectralPOP.SumofSquares_POP_WithExtraction(x,f,g,h,k) # SumOfSquares + Mosek"
   ]
  },
  {
   "cell_type": "code",
   "execution_count": null,
   "metadata": {},
   "outputs": [],
   "source": []
  }
 ],
 "metadata": {
  "kernelspec": {
   "display_name": "Julia 1.3.0",
   "language": "julia",
   "name": "julia-1.3"
  },
  "language_info": {
   "file_extension": ".jl",
   "mimetype": "application/julia",
   "name": "julia",
   "version": "1.3.0"
  }
 },
 "nbformat": 4,
 "nbformat_minor": 2
}
