{
 "cells": [
  {
   "cell_type": "code",
   "execution_count": 1,
   "metadata": {},
   "outputs": [],
   "source": [
    "using DynamicPolynomials\n",
    "\n",
    "# println(\"***Problem setting***\")\n",
    "\n",
    "\n",
    "\n",
    "# n=10\n",
    "# # N=[10;15;20;25;30;35]\n",
    "\n",
    "# # for n in N\n",
    "# l_g=ceil(Int32, n/8)\n",
    "# l_h=ceil(Int32, n/8)\n",
    "\n",
    "# println(\"Number of variable: n=\",n)\n",
    "# println(\"====================\")\n",
    "\n",
    "# @polyvar x[1:n]# variables\n",
    "\n",
    "\n",
    "\n",
    "# # random quadratic objective function f\n",
    "# v=reverse(monomials(x,0:2))\n",
    "# c=2*rand(Float64,length(v)).-1\n",
    "# f=c'*v\n",
    "\n",
    "\n",
    "# # unit sphere constraint\n",
    "# R=1.0\n",
    "# g=[R-sum(x.^2)] #type of coefficients of each polynomial must be float\n",
    "\n",
    "\n",
    "\n",
    "# # random quadratic equality constraints\n",
    "# randx=2*rand(n).-1# create a feasible solution\n",
    "# randx=randx./sqrt(sum(randx.^2))\n",
    "# randx=randx.*rand(1)\n",
    "\n",
    "# for j in 1:l_g-1\n",
    "#     a=2*rand(Float64,length(v[2:end])).-1\n",
    "#     push!(g,a'*v[2:end])\n",
    "#     g[end]-=g[end](x => randx)#make constraints feasible\n",
    "#     g[end]+=rand(1)[1]\n",
    "# end\n",
    "# #g=Polynomial{true,Float64}[]\n",
    "# l_g=length(g)\n",
    "# println(\"Number of inequality constraints: l_g=\",l_g)\n",
    "# println(\"====================\")\n",
    "\n",
    "# h=Polynomial{true,Float64}[]\n",
    "# for j in 1:l_h\n",
    "#     a=2*rand(Float64,length(v[2:end])).-1\n",
    "#     push!(h,a'*v[2:end])\n",
    "#     h[end]-=h[end](x => randx) #make constraints feasible\n",
    "# end\n",
    "# l_h=length(h)\n",
    "\n",
    "# println(\"Number of equality constraints: l_h=\",l_h)\n",
    "# println(\"====================\")\n",
    "\n",
    "# k=2\n",
    "\n",
    "# println(\"Relaxed order: k=\",k)\n",
    "    \n",
    "    \n",
    "# include(\"../src/SpectralPOP.jl\")\n",
    "# using .SpectralPOP\n",
    "\n",
    "# SpectralPOP.save_data(x,f,g,h,R)\n",
    "    \n",
    "# end"
   ]
  },
  {
   "cell_type": "code",
   "execution_count": 8,
   "metadata": {},
   "outputs": [
    {
     "name": "stderr",
     "output_type": "stream",
     "text": [
      "WARNING: replacing module SpectralSOS.\n"
     ]
    },
    {
     "data": {
      "text/plain": [
       "2"
      ]
     },
     "execution_count": 8,
     "metadata": {},
     "output_type": "execute_result"
    }
   ],
   "source": [
    "using SparseArrays, DynamicPolynomials\n",
    "\n",
    "include(\"../src/SpectralSOS.jl\")\n",
    "using .SpectralSOS\n",
    "\n",
    "data=\"/home/hoanganh/Desktop/math-topics/SpectralPOP/codes/dataPOP\"\n",
    "\n",
    "include(data*\"/densePOPsphere_deg2_var10_nineq2_neq2.jl\")\n",
    "\n",
    "x,f,g,h=SpectralSOS.get_POP(n,m,l,lmon_g,supp_g,coe_g,lmon_h,supp_h,coe_h,lmon_f,supp_f,coe_f);\n",
    "\n",
    "\n",
    "k=2"
   ]
  },
  {
   "cell_type": "code",
   "execution_count": 9,
   "metadata": {},
   "outputs": [
    {
     "name": "stdout",
     "output_type": "stream",
     "text": [
      "**SumOfSquares+Mosek:\n"
     ]
    },
    {
     "name": "stderr",
     "output_type": "stream",
     "text": [
      "WARNING: replacing module SpectralSOS.\n"
     ]
    },
    {
     "name": "stdout",
     "output_type": "stream",
     "text": [
      "OPTIMAL\n",
      "opt_val=-3.1779245545624164\n",
      "  0.414420 seconds (769.42 k allocations: 86.142 MiB, 9.71% gc time)\n"
     ]
    },
    {
     "data": {
      "text/plain": [
       "-3.1779245545624164"
      ]
     },
     "execution_count": 9,
     "metadata": {},
     "output_type": "execute_result"
    }
   ],
   "source": [
    "include(\"../src/SpectralSOS.jl\")\n",
    "using .SpectralSOS\n",
    "\n",
    "opt_val = SpectralSOS.SumofSquares_POP(x,f,g,h,k)"
   ]
  },
  {
   "cell_type": "code",
   "execution_count": 10,
   "metadata": {
    "scrolled": true
   },
   "outputs": [
    {
     "name": "stdout",
     "output_type": "stream",
     "text": [
      "**Computing the upper bound 1\n",
      "**Constant trace property (CTP):\n",
      "**Converting the moment relaxation to the standard SDP:\n",
      "  Size of psd matrix: sk=78\n",
      "  Number of trace equality constraints: m=1951\n",
      " "
     ]
    },
    {
     "name": "stderr",
     "output_type": "stream",
     "text": [
      "WARNING: replacing module SpectralSOS.\n"
     ]
    },
    {
     "name": "stdout",
     "output_type": "stream",
     "text": [
      " 0.112809 seconds (281.64 k allocations: 39.704 MiB)\n",
      "**LMBM solver:\n",
      "---------------\n",
      "| Parameters: |\n",
      "---------------\n",
      "n:       1951\n",
      "maxtime: 300000.000000\n",
      "na:      2\n",
      "mcu:     5\n",
      "mc:      7\n",
      "rpar: \n",
      "ipar: \n",
      "-----------\n",
      "| Output: |\n",
      "-----------\n",
      "Termination:     3\n",
      "N. iter.:        31\n",
      "N. func. eval.:  121\n",
      "Final value:     0.132783\n",
      "Execution time:  0.158997\n",
      "  1.292973 seconds (762.04 k allocations: 64.659 MiB)\n",
      "------------------------------------\n",
      "**Numerical result:\n",
      "====================================\n",
      "opt_val=-0.9936543360201803\n",
      "====================================\n",
      "Dimension of the null space of Gram matrix = 1\n",
      "------------------------------------\n",
      "atom 1:\n",
      "It is not an approximate optimal solution!\n",
      "  0.011417 seconds (1.06 k allocations: 607.016 KiB)\n",
      "  1.418111 seconds (1.05 M allocations: 104.994 MiB)\n",
      "--------------------------\n",
      "**Computing the upper bound 2\n",
      "**Constant trace property (CTP):\n",
      "**Converting the moment relaxation to the standard SDP:\n",
      "  Size of psd matrix: sk=78\n",
      "  Number of trace equality constraints: m=1951\n",
      "  0.123561 seconds (232.67 k allocations: 37.323 MiB, 47.52% gc time)\n",
      "**LMBM solver:\n",
      "---------------\n",
      "| Parameters: |\n",
      "---------------\n",
      "n:       1951\n",
      "maxtime: 300000.000000\n",
      "na:      2\n",
      "mcu:     5\n",
      "mc:      7\n",
      "rpar: \n",
      "ipar: \n",
      "-----------\n",
      "| Output: |\n",
      "-----------\n",
      "Termination:     1\n",
      "N. iter.:        58\n",
      "N. func. eval.:  72\n",
      "Final value:     0.401109\n",
      "Execution time:  0.219116\n",
      "  0.092589 seconds (30.59 k allocations: 15.223 MiB)\n",
      "------------------------------------\n",
      "**Numerical result:\n",
      "====================================\n",
      "opt_val=-2.45743679344111\n",
      "====================================\n",
      "Dimension of the null space of Gram matrix = 1\n",
      "------------------------------------\n",
      "atom 1:\n",
      "####################################\n",
      "It is an approximate optimal solution!\n",
      "####################################\n",
      "  0.033258 seconds (1.28 k allocations: 621.703 KiB)\n",
      "  0.250408 seconds (265.70 k allocations: 53.187 MiB, 23.45% gc time)\n",
      "--------------------------\n",
      "  Radius of big ball: R_bar=4.4510911294612905\n",
      "**Constant trace property (CTP):\n",
      "**Converting the moment relaxation to the standard SDP:\n",
      "  Size of psd matrix: sk=105\n",
      "  Number of trace equality constraints: m=3711\n",
      "  0.165193 seconds (491.67 k allocations: 81.248 MiB, 14.58% gc time)\n",
      "**LMBM solver:\n",
      "---------------\n",
      "| Parameters: |\n",
      "---------------\n",
      "n:       3711\n",
      "maxtime: 300000.000000\n",
      "na:      2\n",
      "mcu:     5\n",
      "mc:      7\n",
      "rpar: \n",
      "ipar: \n",
      "-----------\n",
      "| Output: |\n",
      "-----------\n",
      "Termination:     2\n",
      "N. iter.:        3514\n",
      "N. func. eval.:  9965\n",
      "Final value:     0.107029\n",
      "Execution time:  219.092346\n",
      " 84.086759 seconds (11.24 M allocations: 3.793 GiB, 1.13% gc time)\n",
      "------------------------------------\n",
      "**Numerical result:\n",
      "====================================\n",
      "opt_val=-3.18031252294517\n",
      "====================================\n",
      "Dimension of the null space of Gram matrix = 3\n",
      "------------------------------------\n",
      "atom 1:\n",
      "It is not an approximate optimal solution!\n",
      "------------------------------------\n",
      "atom 2:\n",
      "####################################\n",
      "It is an approximate optimal solution!\n",
      "####################################\n",
      "------------------------------------\n",
      "atom 3:\n",
      "It is not an approximate optimal solution!\n",
      "  0.033807 seconds (5.04 k allocations: 1.437 MiB)\n",
      " 84.286586 seconds (11.74 M allocations: 3.874 GiB, 1.15% gc time)\n",
      " 85.956481 seconds (13.05 M allocations: 4.029 GiB, 1.20% gc time)\n"
     ]
    },
    {
     "data": {
      "text/plain": [
       "(-3.18031252294517, [-0.2181027139504614, -0.07110488172301638, -0.4608523292104652, -0.20971895511484256, -0.11845261049253701, 0.5527627686507566, 0.6058017366311557, 0.06021764517144865, -0.115590101624923, 0.1414044665713307])"
      ]
     },
     "execution_count": 10,
     "metadata": {},
     "output_type": "execute_result"
    }
   ],
   "source": [
    "include(\"../src/SpectralSOS.jl\")\n",
    "using .SpectralSOS  \n",
    "\n",
    "opt_val,opt_sol = SpectralSOS.CTP_POP_on_Ball(x,f,g,h,k,R,EigAlg=\"Mix\",scale=true)"
   ]
  },
  {
   "cell_type": "code",
   "execution_count": 11,
   "metadata": {},
   "outputs": [
    {
     "name": "stdout",
     "output_type": "stream",
     "text": [
      "**Bounded trace property (BTP):\n",
      "  Largest upper bound of psd matrix: bound_ak=571.2809733708643\n",
      "  Number of blocks: numBloc=4\n",
      "  Size of block-diagonal matrix: s=89\n",
      "  Size of blocks: [66, 11, 11, 1]\n",
      "  Number of trace equality constraints: m=1475\n"
     ]
    },
    {
     "name": "stderr",
     "output_type": "stream",
     "text": [
      "WARNING: replacing module SpectralSOS.\n"
     ]
    },
    {
     "name": "stdout",
     "output_type": "stream",
     "text": [
      "  0.493491 seconds (535.46 k allocations: 130.284 MiB, 4.61% gc time)\n",
      "***LMBM solver:***\n",
      "---------------\n",
      "| Parameters: |\n",
      "---------------\n",
      "n:       1475\n",
      "maxtime: 300000.000000\n",
      "na:      2\n",
      "mcu:     5\n",
      "mc:      7\n",
      "rpar: \n",
      "ipar: \n",
      "-----------\n",
      "| Output: |\n",
      "-----------\n",
      "Termination:     3\n",
      "N. iter.:        1421\n",
      "N. func. eval.:  4784\n",
      "Final value:     0.089368\n",
      "Execution time:  33.256836\n",
      "####################################\n",
      "opt_val = -0.6284652077182984\n",
      "####################################\n",
      "Dimension of the null space of Gram matrix = 4\n",
      "------------------------------------\n",
      "atom 1:\n",
      "It is not an approximate optimal solution!\n",
      "------------------------------------\n",
      "atom 2:\n",
      "It is not an approximate optimal solution!\n",
      "------------------------------------\n",
      "atom 3:\n",
      "It is not an approximate optimal solution!\n",
      "------------------------------------\n",
      "atom 4:\n",
      "It is not an approximate optimal solution!\n",
      " 33.969391 seconds (32.75 M allocations: 5.137 GiB, 1.65% gc time)\n"
     ]
    },
    {
     "data": {
      "text/plain": [
       "(-0.6284652077182984, Array{Float64,1}[])"
      ]
     },
     "execution_count": 11,
     "metadata": {},
     "output_type": "execute_result"
    }
   ],
   "source": [
    "include(\"../src/SpectralSOS.jl\")\n",
    "using .SpectralSOS\n",
    "\n",
    "CT=2.0\n",
    "\n",
    "opt_val,opt_sol = SpectralSOS.BTP_POP(x,f,g,h,k,R,EigAlg=\"Mix\",scale=true,ak=CT)"
   ]
  },
  {
   "cell_type": "code",
   "execution_count": null,
   "metadata": {},
   "outputs": [],
   "source": []
  },
  {
   "cell_type": "code",
   "execution_count": null,
   "metadata": {},
   "outputs": [],
   "source": []
  },
  {
   "cell_type": "code",
   "execution_count": null,
   "metadata": {},
   "outputs": [],
   "source": [
    "# include(\"../src/SpectralPOP.jl\")\n",
    "# using .SpectralPOP\n",
    "\n",
    "# SpectralPOP.save_data(x,f,g,h,R)"
   ]
  },
  {
   "cell_type": "code",
   "execution_count": null,
   "metadata": {},
   "outputs": [],
   "source": []
  }
 ],
 "metadata": {
  "kernelspec": {
   "display_name": "Julia 1.3.0",
   "language": "julia",
   "name": "julia-1.3"
  },
  "language_info": {
   "file_extension": ".jl",
   "mimetype": "application/julia",
   "name": "julia",
   "version": "1.3.0"
  }
 },
 "nbformat": 4,
 "nbformat_minor": 2
}
