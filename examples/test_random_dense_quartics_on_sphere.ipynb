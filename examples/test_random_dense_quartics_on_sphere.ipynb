{
 "cells": [
  {
   "cell_type": "code",
   "execution_count": 1,
   "metadata": {},
   "outputs": [
    {
     "name": "stdout",
     "output_type": "stream",
     "text": [
      "***Problem setting***\n",
      "Number of variables: n=2\n",
      "====================\n",
      "Number of equality constraints: l_h=1\n",
      "====================\n",
      "Relaxation order: k=2\n"
     ]
    }
   ],
   "source": [
    "using DynamicPolynomials\n",
    "\n",
    "println(\"***Problem setting***\")\n",
    "\n",
    "n=2\n",
    "#N=[5;10;15;20;25;30]\n",
    "\n",
    "#for n in N\n",
    "\n",
    "println(\"Number of variables: n=\",n)\n",
    "println(\"====================\")\n",
    "\n",
    "@polyvar x[1:n]# variables\n",
    "\n",
    "# random quadratic objective function f\n",
    "v=reverse(monomials(x,0:4))\n",
    "c=2*rand(Float64,length(v)).-1\n",
    "f=c'*v\n",
    "\n",
    "\n",
    "# unit sphere constraint\n",
    "R=1.0\n",
    "h=[R-sum(x.^2)] #type of coefficients of each polynomial must be float\n",
    "\n",
    "l_h=length(h)\n",
    "\n",
    "println(\"Number of equality constraints: l_h=\",l_h)\n",
    "println(\"====================\")\n",
    "\n",
    "k=Int64(2)\n",
    "\n",
    "println(\"Relaxation order: k=\",k)\n",
    "    \n",
    "\n",
    "    \n",
    "#end"
   ]
  },
  {
   "cell_type": "code",
   "execution_count": 2,
   "metadata": {},
   "outputs": [],
   "source": [
    "# using SparseArrays\n",
    "\n",
    "# include(\"../src/SpectralSOS.jl\")\n",
    "# using .SpectralSOS\n",
    "\n",
    "\n",
    "\n",
    "# include(\"../examples/densePOPsphere_deg4_var5_nineq0_neq1.jl\")\n",
    "\n",
    "# x,f,g,h=SpectralSOS.get_POP(n,m,l,lmon_g,supp_g,coe_g,lmon_h,supp_h,coe_h,lmon_f,supp_f,coe_f);\n",
    "\n",
    "\n",
    "# k=2"
   ]
  },
  {
   "cell_type": "code",
   "execution_count": 3,
   "metadata": {},
   "outputs": [
    {
     "name": "stdout",
     "output_type": "stream",
     "text": [
      "**SumOfSquares+Mosek:\n",
      "OPTIMAL\n",
      "opt_val=-1.8589752518226632\n",
      " 21.568086 seconds (37.51 M allocations: 1.858 GiB, 4.84% gc time)\n"
     ]
    },
    {
     "data": {
      "text/plain": [
       "-1.8589752518226632"
      ]
     },
     "execution_count": 3,
     "metadata": {},
     "output_type": "execute_result"
    }
   ],
   "source": [
    "include(\"../src/SpectralSOS.jl\")\n",
    "using .SpectralSOS\n",
    "\n",
    "g=Vector{Polynomial{true,Float64}}([])\n",
    "\n",
    "opt_val = SpectralSOS.SumofSquares_POP(x,f,g,h,k)"
   ]
  },
  {
   "cell_type": "code",
   "execution_count": 4,
   "metadata": {
    "scrolled": true
   },
   "outputs": [
    {
     "name": "stdout",
     "output_type": "stream",
     "text": [
      "**Constant trace property (CTP):\n",
      "**Converting the moment relaxation to the standard SDP:\n"
     ]
    },
    {
     "name": "stderr",
     "output_type": "stream",
     "text": [
      "WARNING: replacing module SpectralSOS.\n"
     ]
    },
    {
     "name": "stdout",
     "output_type": "stream",
     "text": [
      "  Size of psd matrix: sk=6\n",
      "  Number of trace equality constraints: m=13\n",
      "  3.086941 seconds (5.16 M allocations: 254.354 MiB, 3.23% gc time)\n",
      "**LMBM solver:\n",
      "---------------\n",
      "| Parameters: |\n",
      "---------------\n",
      "n:       13\n",
      "maxtime: 300000.000000\n",
      "na:      2\n",
      "mcu:     5\n",
      "mc:      7\n",
      "rpar: \n",
      "ipar: \n",
      "-----------\n",
      "| Output: |\n",
      "-----------\n",
      "Termination:     1\n",
      "N. iter.:        11\n",
      "N. func. eval.:  11\n",
      "Final value:     0.451916\n",
      "Execution time:  0.358521\n",
      "  2.589150 seconds (1.30 M allocations: 69.255 MiB)\n",
      "------------------------------------\n",
      "**Numerical result:\n",
      "====================================\n",
      "opt_val=-1.8589849605152353\n",
      "====================================\n",
      "Dimension of the null space of Gram matrix = 1\n",
      "------------------------------------\n",
      "atom 1:\n",
      "####################################\n",
      "It is an approximate optimal solution!\n",
      "####################################\n",
      "  0.302495 seconds (536.19 k allocations: 26.381 MiB)\n",
      "  5.979223 seconds (7.00 M allocations: 350.022 MiB, 1.67% gc time)\n"
     ]
    },
    {
     "data": {
      "text/plain": [
       "(-1.8589849605152353, [0.10440541534844404, -0.9933508531809221])"
      ]
     },
     "execution_count": 4,
     "metadata": {},
     "output_type": "execute_result"
    }
   ],
   "source": [
    "include(\"../src/SpectralSOS.jl\")\n",
    "using .SpectralSOS\n",
    "\n",
    "\n",
    "opt_val,opt_sol = SpectralSOS.CTP_POP(x,f,h,k,R;method=\"LMBM\",EigAlg=\"Mix\",tol=1e-5,scale=true)"
   ]
  },
  {
   "cell_type": "code",
   "execution_count": 5,
   "metadata": {
    "scrolled": true
   },
   "outputs": [
    {
     "name": "stdout",
     "output_type": "stream",
     "text": [
      "**Constant trace property (CTP):\n",
      "**Converting the moment relaxation to the standard SDP:\n",
      "  Size of psd matrix: sk=6\n",
      "  Number of trace equality constraints: m=13\n",
      "  0.076399 seconds (51.41 k allocations: 2.590 MiB)\n"
     ]
    },
    {
     "name": "stderr",
     "output_type": "stream",
     "text": [
      "WARNING: replacing module SpectralSOS.\n"
     ]
    },
    {
     "name": "stdout",
     "output_type": "stream",
     "text": [
      "**SketchyCGAL solver:\n",
      "* status = stopping criteria met\n",
      "  3.018738 seconds (4.43 M allocations: 228.597 MiB, 3.22% gc time)\n",
      "------------------------------------\n",
      "**Numerical result:\n",
      "====================================\n",
      "opt_val=-1.7694542824821828\n",
      "====================================\n",
      "Rank of moment matrix = 6\n",
      "  0.003731 seconds (409 allocations: 24.859 KiB)\n",
      "  3.104716 seconds (4.49 M allocations: 231.273 MiB, 3.13% gc time)\n"
     ]
    },
    {
     "data": {
      "text/plain": [
       "(-1.7694542824821828, Array{Float64,1}[])"
      ]
     },
     "execution_count": 5,
     "metadata": {},
     "output_type": "execute_result"
    }
   ],
   "source": [
    "include(\"../src/SpectralSOS.jl\")\n",
    "using .SpectralSOS\n",
    "\n",
    "\n",
    "opt_val,opt_sol = SpectralSOS.CTP_POP(x,f,h,k,R;method=\"SketchyCGAL\",EigAlg=\"Normal\",tol=1e-3,scale=true)"
   ]
  },
  {
   "cell_type": "code",
   "execution_count": null,
   "metadata": {},
   "outputs": [],
   "source": []
  },
  {
   "cell_type": "code",
   "execution_count": 6,
   "metadata": {},
   "outputs": [
    {
     "name": "stderr",
     "output_type": "stream",
     "text": [
      "WARNING: replacing module SpectralSOS.\n"
     ]
    }
   ],
   "source": [
    "# include(\"../src/SpectralSOS.jl\")\n",
    "# using .SpectralSOS\n",
    "\n",
    "# g=Vector{Polynomial{true,Float64}}([])\n",
    "\n",
    "# SpectralSOS.save_data(x,f,g,h,R)"
   ]
  },
  {
   "cell_type": "code",
   "execution_count": null,
   "metadata": {},
   "outputs": [],
   "source": []
  }
 ],
 "metadata": {
  "kernelspec": {
   "display_name": "Julia 1.3.0",
   "language": "julia",
   "name": "julia-1.3"
  },
  "language_info": {
   "file_extension": ".jl",
   "mimetype": "application/julia",
   "name": "julia",
   "version": "1.3.0"
  }
 },
 "nbformat": 4,
 "nbformat_minor": 2
}
