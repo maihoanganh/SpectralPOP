{
 "cells": [
  {
   "cell_type": "code",
   "execution_count": 1,
   "metadata": {},
   "outputs": [
    {
     "name": "stdout",
     "output_type": "stream",
     "text": [
      "***Problem setting***\n",
      "Number of variable: n=5\n",
      "====================\n",
      "Number of equality constraints: l_h=3\n",
      "====================\n",
      "Relaxed order: k=1\n"
     ]
    }
   ],
   "source": [
    "using DynamicPolynomials\n",
    "\n",
    "println(\"***Problem setting***\")\n",
    "\n",
    "n=5\n",
    "l=ceil(Int32, n/4)\n",
    "\n",
    "println(\"Number of variable: n=\",n)\n",
    "println(\"====================\")\n",
    "\n",
    "@polyvar x[1:n]# variables\n",
    "\n",
    "function generate_random_poly(v::Vector{Monomial{true}})\n",
    "    c=2*rand(Float64,length(v)).-1\n",
    "    return c'*v\n",
    "end\n",
    "\n",
    "R=1.0\n",
    "\n",
    "function generate_objective_and_constraints(x)\n",
    "    # random quadratic objective function f\n",
    "    v=reverse(monomials(x,0:2))\n",
    "    f=generate_random_poly(v)\n",
    "\n",
    "\n",
    "    # unit sphere constraint\n",
    "    h=[R-sum(x.^2)] #type of coefficients of each polynomial must be float\n",
    "\n",
    "    # random quadratic equality constraints\n",
    "    randx=2*rand(n).-1# create a feasible solution\n",
    "    randx=randx./sqrt(sum(randx.^2))\n",
    "\n",
    "\n",
    "    for j in 1:l\n",
    "        push!(h,generate_random_poly(v[2:end]))\n",
    "        h[end]-=h[end](x => randx) #make constraints feasible\n",
    "    end\n",
    "    l_h=length(h)\n",
    "\n",
    "    println(\"Number of equality constraints: l_h=\",l_h)\n",
    "    println(\"====================\")\n",
    "    return f,h\n",
    "end\n",
    "\n",
    "\n",
    "f,h=generate_objective_and_constraints(x)\n",
    "\n",
    "k=Int64(1)\n",
    "\n",
    "println(\"Relaxed order: k=\",k)\n",
    "\n",
    "\n",
    "# include(\"../src/SpectralPOP.jl\")\n",
    "# using .SpectralPOP\n",
    "\n",
    "# g=Vector{Polynomial{true,Float64}}([])\n",
    "\n",
    "# SpectralPOP.save_data(x,f,g,h,R)"
   ]
  },
  {
   "cell_type": "code",
   "execution_count": 7,
   "metadata": {},
   "outputs": [
    {
     "name": "stderr",
     "output_type": "stream",
     "text": [
      "WARNING: replacing module SpectralPOP.\n"
     ]
    },
    {
     "data": {
      "text/plain": [
       "1"
      ]
     },
     "execution_count": 7,
     "metadata": {},
     "output_type": "execute_result"
    }
   ],
   "source": [
    "# using SparseArrays\n",
    "\n",
    "# include(\"../src/SpectralPOP.jl\")\n",
    "# using .SpectralPOP\n",
    "\n",
    "\n",
    "\n",
    "# include(\"../examples/densePOPsphere_deg2_var50_nineq0_neq14.jl\")\n",
    "\n",
    "# x,f,g,h=SpectralPOP.get_POP(n,m,l,lmon_g,supp_g,coe_g,lmon_h,supp_h,coe_h,lmon_f,supp_f,coe_f);\n",
    "\n",
    "\n",
    "# k=1"
   ]
  },
  {
   "cell_type": "code",
   "execution_count": 8,
   "metadata": {},
   "outputs": [
    {
     "name": "stdout",
     "output_type": "stream",
     "text": [
      "**Convert moment relaxation to standard SDP:\n",
      "  Size of psd matrix: sk=51\n",
      "  Number of equality trace constraints: m=15\n",
      "  1.379595 seconds (2.69 M allocations: 247.523 MiB)\n",
      "**LMBM solver:\n",
      "---------------\n",
      "| Parameters: |\n",
      "---------------\n",
      "n:       15\n",
      "maxtime: 300000.000000\n",
      "na:      2\n",
      "mcu:     5\n",
      "mc:      7\n",
      "rpar: \n",
      "ipar: \n",
      "-----------\n",
      "| Output: |\n",
      "-----------\n",
      "Termination:     1\n",
      "N. iter.:        23\n",
      "N. func. eval.:  25\n",
      "Final value:     5.029805\n",
      "Execution time:  1.318115\n",
      "  1.762413 seconds (1.97 M allocations: 107.247 MiB, 6.68% gc time)\n",
      "------------------------------------\n",
      "**Numerical result:\n",
      "====================================\n",
      "opt_val=-5.029804949389652\n",
      "====================================\n",
      "Dimension of the null space of Gram matrix = 1\n",
      "------------------------------------\n",
      "atom 1 = [0.04830287388877305, 0.017151209533242243, 0.04294399337694352, -0.05877316195950872, 0.29889095422901457, -0.3157627052427413, 0.04860966633842509, 0.09426017523188904, 0.20333016418019817, 0.11260334793541071, 0.25970474722720716, 0.1214598115399484, 0.02611451018604146, -0.019114329078370514, 0.031083633395474437, 0.009665490188641226, -0.18489256274366656, 0.08360867369651158, 0.10620085636945502, -0.07475044916320421, -0.3458160968149292, 0.07019228977245447, -0.00785078703731003, -0.0620050721146546, -0.016718696975393726, -0.15426341086649145, 0.026567554337012404, -0.3688468392519489, -0.10124856118937785, 0.07184152838919722, -0.06375155200431407, 0.08579567292082498, 0.0830523571723105, 0.13178105153759245, 0.13222730758622656, 0.027619623963575226, -0.06859136838649767, -0.03734175496517091, -0.08543261301168832, 0.18505005158487042, -0.008476303612614018, -0.07927727686173754, -0.021758233761792607, -0.1024094126578942, -0.13029730043258886, -0.20893297276401873, -0.0743382526986497, -0.23112125752073417, -0.23048972620582367, -0.0052743396602340864]\n",
      "  check gap of lower bound  = 0.00441355177470637\n",
      "  check equality constraint 1 = 0.0008733525540691733\n",
      "  check equality constraint 2 = 4.594725121130627e-5\n",
      "  check equality constraint 3 = 0.00013987061996401096\n",
      "  check equality constraint 4 = 1.4143733506152834e-5\n",
      "  check equality constraint 5 = 0.00017486616558320262\n",
      "  check equality constraint 6 = 0.0006445737736064314\n",
      "  check equality constraint 7 = 0.00047166556100025625\n",
      "  check equality constraint 8 = 0.00042401186292995163\n",
      "  check equality constraint 9 = 0.00023219804721053006\n",
      "  check equality constraint 10 = 0.0003308985793179786\n",
      "  check equality constraint 11 = 0.0006887942409893877\n",
      "  check equality constraint 12 = 6.838205324649627e-5\n",
      "  check equality constraint 13 = 0.0005747645946947988\n",
      "  check equality constraint 14 = 0.0010044847413036573\n",
      "####################################\n",
      "Optimal solution: opt_sol = [0.04830287388877305, 0.017151209533242243, 0.04294399337694352, -0.05877316195950872, 0.29889095422901457, -0.3157627052427413, 0.04860966633842509, 0.09426017523188904, 0.20333016418019817, 0.11260334793541071, 0.25970474722720716, 0.1214598115399484, 0.02611451018604146, -0.019114329078370514, 0.031083633395474437, 0.009665490188641226, -0.18489256274366656, 0.08360867369651158, 0.10620085636945502, -0.07475044916320421, -0.3458160968149292, 0.07019228977245447, -0.00785078703731003, -0.0620050721146546, -0.016718696975393726, -0.15426341086649145, 0.026567554337012404, -0.3688468392519489, -0.10124856118937785, 0.07184152838919722, -0.06375155200431407, 0.08579567292082498, 0.0830523571723105, 0.13178105153759245, 0.13222730758622656, 0.027619623963575226, -0.06859136838649767, -0.03734175496517091, -0.08543261301168832, 0.18505005158487042, -0.008476303612614018, -0.07927727686173754, -0.021758233761792607, -0.1024094126578942, -0.13029730043258886, -0.20893297276401873, -0.0743382526986497, -0.23112125752073417, -0.23048972620582367, -0.0052743396602340864]\n",
      "####################################\n",
      "  0.560302 seconds (863.41 k allocations: 42.924 MiB)\n",
      "  3.837807 seconds (5.68 M allocations: 404.933 MiB, 3.07% gc time)\n"
     ]
    },
    {
     "data": {
      "text/plain": [
       "(-5.029804949389652, [0.04830287388877305, 0.017151209533242243, 0.04294399337694352, -0.05877316195950872, 0.29889095422901457, -0.3157627052427413, 0.04860966633842509, 0.09426017523188904, 0.20333016418019817, 0.11260334793541071  …  -0.008476303612614018, -0.07927727686173754, -0.021758233761792607, -0.1024094126578942, -0.13029730043258886, -0.20893297276401873, -0.0743382526986497, -0.23112125752073417, -0.23048972620582367, -0.0052743396602340864])"
      ]
     },
     "execution_count": 8,
     "metadata": {},
     "output_type": "execute_result"
    }
   ],
   "source": [
    " opt_val,opt_sol = SpectralPOP.CTP_POP(x,f,h,k,R;method=\"LMBM\",EigAlg=\"Mix\",tol=1e-5) #Limited memory bundle method"
   ]
  },
  {
   "cell_type": "code",
   "execution_count": 26,
   "metadata": {
    "scrolled": true
   },
   "outputs": [
    {
     "name": "stdout",
     "output_type": "stream",
     "text": [
      "**Convert moment relaxation to standard SDP:\n",
      "  Size of psd matrix: sk=6\n",
      "  Number of equality trace constraints: m=4\n",
      "  0.000354 seconds (1.60 k allocations: 143.703 KiB)\n",
      "**SketchyCGAL solver:\n",
      "- SketchyCGAL SDP Solver - Beta.V.0.0\n",
      "--------------------------\n",
      " iter=1 \n",
      " stopObj=2.9659552471994504 \n",
      " stopFeas=1.0 \n",
      " primalObj=-2.046125880991506 \n",
      "--------------------------\n",
      " iter=2 \n",
      " stopObj=7.0999573654267625 \n",
      " stopFeas=0.8325452788686959 \n",
      " primalObj=-2.601766722603206 \n",
      "--------------------------\n",
      " iter=4 \n",
      " stopObj=4.190999993046546 \n",
      " stopFeas=0.6141060054597697 \n",
      " primalObj=-1.6063484300443014 \n",
      "--------------------------\n",
      " iter=8 \n",
      " stopObj=2.322316192491186 \n",
      " stopFeas=0.3946936790703831 \n",
      " primalObj=-1.8124189536980517 \n",
      "--------------------------\n",
      " iter=16 \n",
      " stopObj=2.2789325138413767 \n",
      " stopFeas=0.25509711466936325 \n",
      " primalObj=-1.720036172410461 \n",
      "--------------------------\n",
      " iter=32 \n",
      " stopObj=1.64282877114394 \n",
      " stopFeas=0.09816868685438516 \n",
      " primalObj=-1.6647086805932452 \n",
      "--------------------------\n",
      " iter=64 \n",
      " stopObj=1.0581353878815318 \n",
      " stopFeas=0.047471800739235834 \n",
      " primalObj=-1.7277051159547365 \n",
      "--------------------------\n",
      " iter=128 \n",
      " stopObj=0.6720371858120311 \n",
      " stopFeas=0.02208135052193824 \n",
      " primalObj=-1.7501244111501912 \n",
      "--------------------------\n",
      " iter=256 \n",
      " stopObj=0.10926101138008315 \n",
      " stopFeas=0.011010526604794865 \n",
      " primalObj=-1.7723617224838473 \n",
      "--------------------------\n",
      " iter=512 \n",
      " stopObj=0.34852926542261153 \n",
      " stopFeas=0.005237845782215617 \n",
      " primalObj=-1.7934330106627605 \n",
      "* status = stopping criteria met\n",
      "  0.116568 seconds (321.94 k allocations: 31.938 MiB)\n",
      "------------------------------------\n",
      "**Numerical result:\n",
      "====================================\n",
      "opt_val=-1.799048361227365\n",
      "====================================\n",
      "Rank of moment matrix = 6\n",
      "  0.000037 seconds (80 allocations: 5.344 KiB)\n",
      "  0.117412 seconds (324.64 k allocations: 32.105 MiB)\n"
     ]
    },
    {
     "data": {
      "text/plain": [
       "(-1.799048361227365, Array{Float64,1}[])"
      ]
     },
     "execution_count": 26,
     "metadata": {},
     "output_type": "execute_result"
    }
   ],
   "source": [
    " opt_val,opt_sol = SpectralPOP.CTP_POP(x,f,h,k,R;method=\"SketchyCGAL\",EigAlg=\"Normal\",tol=1e-3)"
   ]
  },
  {
   "cell_type": "code",
   "execution_count": 27,
   "metadata": {
    "scrolled": true
   },
   "outputs": [
    {
     "name": "stdout",
     "output_type": "stream",
     "text": [
      "**SumOfSquares+Mosek:\n",
      "OPTIMAL\n",
      "opt_val=-1.831502376340787\n",
      "  0.010551 seconds (10.40 k allocations: 969.547 KiB)\n"
     ]
    },
    {
     "name": "stderr",
     "output_type": "stream",
     "text": [
      "WARNING: replacing module SpectralPOP.\n"
     ]
    },
    {
     "data": {
      "text/plain": [
       "-1.831502376340787"
      ]
     },
     "execution_count": 27,
     "metadata": {},
     "output_type": "execute_result"
    }
   ],
   "source": [
    "include(\"../src/SpectralPOP.jl\")\n",
    "using .SpectralPOP\n",
    "\n",
    "g=Vector{Polynomial{true,Float64}}([])\n",
    "opt_val = SpectralPOP.SumofSquares_POP(x,f,g,h,k) # SumOfSquares.jl + Mosek"
   ]
  },
  {
   "cell_type": "code",
   "execution_count": 28,
   "metadata": {
    "scrolled": true
   },
   "outputs": [
    {
     "name": "stdout",
     "output_type": "stream",
     "text": [
      "**SumOfSquares+Mosek:\n",
      "OPTIMAL\n",
      "opt_val=-1.8315023763354146\n",
      "nothing\n",
      "  0.266491 seconds (306.41 k allocations: 14.999 MiB)\n"
     ]
    },
    {
     "name": "stderr",
     "output_type": "stream",
     "text": [
      "WARNING: replacing module SpectralPOP.\n"
     ]
    },
    {
     "data": {
      "text/plain": [
       "(-1.8315023763354146, Float64[])"
      ]
     },
     "execution_count": 28,
     "metadata": {},
     "output_type": "execute_result"
    }
   ],
   "source": [
    "include(\"../src/SpectralPOP.jl\")\n",
    "using .SpectralPOP\n",
    "\n",
    "g=Vector{Polynomial{true,Float64}}([])\n",
    "\n",
    "opt_val,opt_sol = SpectralPOP.SumofSquares_POP_WithExtraction(x,f,g,h,k) # SumOfSquares + Mosek"
   ]
  },
  {
   "cell_type": "code",
   "execution_count": null,
   "metadata": {},
   "outputs": [],
   "source": []
  }
 ],
 "metadata": {
  "kernelspec": {
   "display_name": "Julia 1.3.0",
   "language": "julia",
   "name": "julia-1.3"
  },
  "language_info": {
   "file_extension": ".jl",
   "mimetype": "application/julia",
   "name": "julia",
   "version": "1.3.0"
  }
 },
 "nbformat": 4,
 "nbformat_minor": 2
}
