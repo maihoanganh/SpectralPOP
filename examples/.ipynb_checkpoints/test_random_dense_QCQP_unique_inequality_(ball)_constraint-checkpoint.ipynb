{
 "cells": [
  {
   "cell_type": "code",
   "execution_count": 1,
   "metadata": {
    "scrolled": true
   },
   "outputs": [
    {
     "name": "stdout",
     "output_type": "stream",
     "text": [
      "***Problem setting***\n",
      "Number of variable: n=2\n",
      "====================\n",
      "Number of inequality constraints: l_g=1\n",
      "====================\n",
      "Number of equality constraints: l_h=1\n",
      "====================\n",
      "Relaxed order: k=2\n"
     ]
    }
   ],
   "source": [
    "using DynamicPolynomials\n",
    "\n",
    "println(\"***Problem setting***\")\n",
    "\n",
    "n=2\n",
    "\n",
    "#N=[5;10;15;20;25;30;35;40;45;50]\n",
    "\n",
    "#for n in N\n",
    "l_h=ceil(Int32, n/4)\n",
    "\n",
    "println(\"Number of variable: n=\",n)\n",
    "println(\"====================\")\n",
    "\n",
    "@polyvar x[1:n]# variables\n",
    "\n",
    "\n",
    "# random quadratic objective function f\n",
    "v=reverse(monomials(x,0:2))\n",
    "c=2*rand(Float64,length(v)).-1\n",
    "f=c'*v\n",
    "\n",
    "\n",
    "R=1.0\n",
    "g=[R-sum(x.^2)]\n",
    "\n",
    "println(\"Number of inequality constraints: l_g=\",1)\n",
    "println(\"====================\")\n",
    "\n",
    "# random quadratic equality constraints\n",
    "randx=2*rand(n).-1# create a feasible solution\n",
    "randx=randx./sqrt(sum(randx.^2))\n",
    "randx=randx.*rand(1)\n",
    "\n",
    "h=Polynomial{true,Float64}[]\n",
    "for j in 1:l_h\n",
    "    a=2*rand(Float64,length(v[2:end])).-1\n",
    "    push!(h,a'*v[2:end])\n",
    "    h[end]-=h[end](x => randx) #make constraints feasible\n",
    "end\n",
    "l_h=length(h)\n",
    "\n",
    "println(\"Number of equality constraints: l_h=\",l_h)\n",
    "println(\"====================\")\n",
    "\n",
    "k=2\n",
    "\n",
    "println(\"Relaxed order: k=\",k)\n",
    "    \n",
    "# include(\"../src/SpectralSOS.jl\")\n",
    "# using .SpectralSOS\n",
    "\n",
    "# SpectralSOS.save_data(x,f,g,h,R)\n",
    "    \n",
    "#end"
   ]
  },
  {
   "cell_type": "code",
   "execution_count": 2,
   "metadata": {},
   "outputs": [],
   "source": [
    "# using SparseArrays\n",
    "\n",
    "# include(\"../src/SpectralSOS.jl\")\n",
    "# using .SpectralSOS\n",
    "\n",
    "\n",
    "\n",
    "# include(\"../examples/densePOPsphere_deg2_var5_nineq1_neq2.jl\")\n",
    "\n",
    "# x,f,g,h=SpectralSOS.get_POP(n,m,l,lmon_g,supp_g,coe_g,lmon_h,supp_h,coe_h,lmon_f,supp_f,coe_f);\n",
    "\n",
    "\n",
    "# k=2"
   ]
  },
  {
   "cell_type": "code",
   "execution_count": 3,
   "metadata": {},
   "outputs": [],
   "source": [
    "# include(\"../src/SpectralSOS.jl\")\n",
    "# using .SpectralSOS\n",
    "\n",
    "# opt_val = SpectralSOS.SumofSquares_POP(x,f,g,h,k)"
   ]
  },
  {
   "cell_type": "code",
   "execution_count": null,
   "metadata": {},
   "outputs": [],
   "source": [
    "include(\"../src/SpectralSOS.jl\")\n",
    "using .SpectralSOS\n",
    "\n",
    "opt_val,opt_sol=SpectralSOS.CTP_POP_UniqueBallIneq(x,f,h,k,R;method=\"LMBM\",EigAlg=\"Mix\",tol=1e-5,scale=true)"
   ]
  },
  {
   "cell_type": "code",
   "execution_count": null,
   "metadata": {},
   "outputs": [],
   "source": [
    "# include(\"../src/SpectralPOP.jl\")\n",
    "# using .SpectralPOP \n",
    "\n",
    "# opt_val,opt_sol = SpectralPOP.BTP_POP(x,f,g,h,k,R,EigAlg=\"Mix\",scale=true)"
   ]
  },
  {
   "cell_type": "code",
   "execution_count": null,
   "metadata": {},
   "outputs": [],
   "source": []
  },
  {
   "cell_type": "code",
   "execution_count": 18,
   "metadata": {},
   "outputs": [
    {
     "name": "stderr",
     "output_type": "stream",
     "text": [
      "WARNING: replacing module SpectralPOP.\n"
     ]
    }
   ],
   "source": [
    "include(\"../src/SpectralSOS.jl\")\n",
    "using .SpectralSOS\n",
    "\n",
    "SpectralSOS.save_data(x,f,g,h,R)"
   ]
  },
  {
   "cell_type": "code",
   "execution_count": null,
   "metadata": {},
   "outputs": [],
   "source": []
  }
 ],
 "metadata": {
  "kernelspec": {
   "display_name": "Julia 1.3.0",
   "language": "julia",
   "name": "julia-1.3"
  },
  "language_info": {
   "file_extension": ".jl",
   "mimetype": "application/julia",
   "name": "julia",
   "version": "1.3.0"
  }
 },
 "nbformat": 4,
 "nbformat_minor": 2
}
