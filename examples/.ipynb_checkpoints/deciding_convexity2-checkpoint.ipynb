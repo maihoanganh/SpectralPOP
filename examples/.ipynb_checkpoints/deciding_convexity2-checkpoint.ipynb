{
 "cells": [
  {
   "cell_type": "code",
   "execution_count": 32,
   "metadata": {},
   "outputs": [
    {
     "name": "stdout",
     "output_type": "stream",
     "text": [
      "***Problem setting***\n",
      "Number of variable: n=10\n",
      "====================\n",
      "Number of equality constraints: l_h=1\n",
      "====================\n",
      "Relaxed order: k=2\n"
     ]
    },
    {
     "name": "stderr",
     "output_type": "stream",
     "text": [
      "WARNING: replacing module SpectralPOP.\n"
     ]
    }
   ],
   "source": [
    "using DynamicPolynomials\n",
    "\n",
    "println(\"***Problem setting***\")\n",
    "\n",
    "n=10\n",
    "\n",
    "println(\"Number of variable: n=\",n)\n",
    "println(\"====================\")\n",
    "\n",
    "@polyvar x[1:2*n]# variables\n",
    "\n",
    "# random quadratic objective function f\n",
    "v=reverse(monomials(x[1:n],4))\n",
    "c=2*rand(Float64,length(v)).-1\n",
    "obj=c'*v\n",
    "\n",
    "grad=differentiate.(obj,x[1:n])\n",
    "\n",
    "f=obj(x[1:n]=>x[n+1:2*n])-obj-grad'*(x[n+1:2*n]-x[1:n])\n",
    "\n",
    "\n",
    "# unit sphere constraint\n",
    "R=1.0\n",
    "h=[R-sum(x.^2)] #type of coefficients of each polynomial must be float\n",
    "\n",
    "l_h=length(h)\n",
    "\n",
    "println(\"Number of equality constraints: l_h=\",l_h)\n",
    "println(\"====================\")\n",
    "\n",
    "k=Int64(2)\n",
    "\n",
    "println(\"Relaxed order: k=\",k)\n",
    "    \n",
    "include(\"../src/SpectralPOP.jl\")\n",
    "using .SpectralPOP\n",
    "\n",
    "g=Vector{Polynomial{true,Float64}}([]);\n",
    "\n",
    "#SpectralPOP.save_data(x,f,g,h,R)\n",
    "    \n"
   ]
  },
  {
   "cell_type": "code",
   "execution_count": 25,
   "metadata": {},
   "outputs": [],
   "source": [
    "include(\"../src/SpectralPOP.jl\")\n",
    "using .SpectralPOP\n",
    "\n",
    "SpectralPOP.save_vec(c,n)"
   ]
  },
  {
   "cell_type": "code",
   "execution_count": 33,
   "metadata": {
    "scrolled": true
   },
   "outputs": [
    {
     "name": "stdout",
     "output_type": "stream",
     "text": [
      "**Convert moment relaxation to standard SDP:\n",
      "  Size of psd matrix: sk=231\n",
      "  Number of equality trace constraints: m=16402\n"
     ]
    },
    {
     "name": "stderr",
     "output_type": "stream",
     "text": [
      "WARNING: replacing module SpectralPOP.\n"
     ]
    },
    {
     "name": "stdout",
     "output_type": "stream",
     "text": [
      "  0.455627 seconds (892.40 k allocations: 187.786 MiB, 18.77% gc time)\n",
      "**LMBM solver:\n",
      "---------------\n",
      "| Parameters: |\n",
      "---------------\n",
      "n:       16402\n",
      "maxtime: 300000.000000\n",
      "na:      2\n",
      "mcu:     5\n",
      "mc:      7\n",
      "rpar: \n",
      "ipar: \n",
      "-----------\n",
      "| Output: |\n",
      "-----------\n",
      "Termination:     2\n",
      "N. iter.:        954\n",
      "N. func. eval.:  2140\n",
      "Final value:     0.063266\n",
      "Execution time:  135.100525\n",
      " 52.174723 seconds (4.40 M allocations: 3.289 GiB, 0.67% gc time)\n",
      "------------------------------------\n",
      "**Numerical result:\n",
      "====================================\n",
      "opt_val=-4.988873987804643\n",
      "====================================\n",
      "Dimension of the null space of Gram matrix = 2\n",
      "------------------------------------\n",
      "atom 1 = [-0.1246618381426198, -0.05423235107572883, 0.011744526150809039, -0.05256541585175954, 0.11975420582986997, 0.185328343120444, 0.0976650990896972, -0.12803804011529146, -0.21957696703575522, -0.8874505640695782, 0.033259458461603476, 0.014674138932044748, -0.002937084021468105, 0.013804826269848818, -0.032043606907241506, -0.049566367535546045, -0.026165530635550698, 0.03439784927246312, 0.058844080298198, 0.23805842423569223]\n",
      "  check gap of lower bound  = 0.012637247457467637\n",
      "  check equality constraint 1 = 0.001208172055542578\n",
      "####################################\n",
      "Optimal solution: opt_sol = [-0.1246618381426198, -0.05423235107572883, 0.011744526150809039, -0.05256541585175954, 0.11975420582986997, 0.185328343120444, 0.0976650990896972, -0.12803804011529146, -0.21957696703575522, -0.8874505640695782, 0.033259458461603476, 0.014674138932044748, -0.002937084021468105, 0.013804826269848818, -0.032043606907241506, -0.049566367535546045, -0.026165530635550698, 0.03439784927246312, 0.058844080298198, 0.23805842423569223]\n",
      "####################################\n",
      "------------------------------------\n",
      "atom 2 = [0.128683488459645, 0.054367247620336345, -0.011018294285547185, 0.049756951123249425, -0.11741829210167853, -0.19144938988113258, -0.09974891269462255, 0.13560850079281866, 0.22437631232710806, 0.8956596587799684, -0.03239762285611944, -0.014181616747640983, 0.0037828331023996606, -0.012988344327843338, 0.031110742998070585, 0.051648844706715345, 0.027529681988057813, -0.037764520032119664, -0.06171202118227466, -0.24088495916937058]\n",
      "  check gap of lower bound  = 0.22533670474174272\n",
      "  check equality constraint 1 = 0.02252997608677343\n",
      "  0.057022 seconds (10.70 k allocations: 5.275 MiB)\n",
      " 52.688390 seconds (5.30 M allocations: 3.477 GiB, 0.82% gc time)\n"
     ]
    },
    {
     "data": {
      "text/plain": [
       "(-4.988873987804643, [-0.1246618381426198, -0.05423235107572883, 0.011744526150809039, -0.05256541585175954, 0.11975420582986997, 0.185328343120444, 0.0976650990896972, -0.12803804011529146, -0.21957696703575522, -0.8874505640695782, 0.033259458461603476, 0.014674138932044748, -0.002937084021468105, 0.013804826269848818, -0.032043606907241506, -0.049566367535546045, -0.026165530635550698, 0.03439784927246312, 0.058844080298198, 0.23805842423569223])"
      ]
     },
     "execution_count": 33,
     "metadata": {},
     "output_type": "execute_result"
    }
   ],
   "source": [
    "include(\"../src/SpectralPOP.jl\")\n",
    "using .SpectralPOP\n",
    "\n",
    "\n",
    "opt_val,opt_sol = SpectralPOP.CTP_POP(x,f,h,k,R;method=\"LMBM\",EigAlg=\"Mix\",tol=1e-5)"
   ]
  },
  {
   "cell_type": "code",
   "execution_count": null,
   "metadata": {},
   "outputs": [],
   "source": []
  },
  {
   "cell_type": "code",
   "execution_count": null,
   "metadata": {},
   "outputs": [],
   "source": []
  },
  {
   "cell_type": "code",
   "execution_count": 9,
   "metadata": {
    "scrolled": true
   },
   "outputs": [
    {
     "name": "stdout",
     "output_type": "stream",
     "text": [
      "**Convert moment relaxation to standard SDP:\n",
      "  Size of psd matrix: sk=66\n",
      "  Number of equality trace constraints: m=1277\n",
      "  0.052262 seconds (109.57 k allocations: 11.013 MiB)\n",
      "**SketchyCGAL solver:\n"
     ]
    },
    {
     "name": "stderr",
     "output_type": "stream",
     "text": [
      "WARNING: replacing module SpectralPOP.\n"
     ]
    },
    {
     "name": "stdout",
     "output_type": "stream",
     "text": [
      "- SketchyCGAL SDP Solver - Beta.V.0.0\n",
      "--------------------------\n",
      " iter=1 \n",
      " stopObj=4.819977739255371 \n",
      " stopFeas=1.0 \n",
      " primalObj=-0.1148948195761842 \n",
      "--------------------------\n",
      " iter=2 \n",
      " stopObj=49.80994550708464 \n",
      " stopFeas=4.794801524735363 \n",
      " primalObj=-0.036180200541619134 \n",
      "--------------------------\n",
      " iter=4 \n",
      " stopObj=13.814296285712992 \n",
      " stopFeas=1.605100042201573 \n",
      " primalObj=-0.6545084792715133 \n",
      "--------------------------\n",
      " iter=8 \n",
      " stopObj=4.6357770578812865 \n",
      " stopFeas=0.42433975660288065 \n",
      " primalObj=-0.45381829268746815 \n",
      "--------------------------\n",
      " iter=16 \n",
      " stopObj=3.593056639045011 \n",
      " stopFeas=0.4010939710608649 \n",
      " primalObj=-0.6545396029601697 \n",
      "--------------------------\n",
      " iter=32 \n",
      " stopObj=3.0785959897645863 \n",
      " stopFeas=0.18038978485770846 \n",
      " primalObj=-0.5959802583596784 \n",
      "--------------------------\n",
      " iter=64 \n",
      " stopObj=1.733266976441243 \n",
      " stopFeas=0.09948961347451755 \n",
      " primalObj=-0.6367906488298358 \n",
      "--------------------------\n",
      " iter=128 \n",
      " stopObj=0.6578818201720549 \n",
      " stopFeas=0.046561187798630964 \n",
      " primalObj=-0.6773787211019925 \n",
      "--------------------------\n",
      " iter=256 \n",
      " stopObj=0.7051546086924712 \n",
      " stopFeas=0.018652711203896267 \n",
      " primalObj=-0.7263470054412183 \n",
      "--------------------------\n",
      " iter=512 \n",
      " stopObj=0.5343244134536824 \n",
      " stopFeas=0.008178355510144324 \n",
      " primalObj=-0.785864416192801 \n",
      "--------------------------\n",
      " iter=1024 \n",
      " stopObj=0.5021380512781217 \n",
      " stopFeas=0.004583841288856423 \n",
      " primalObj=-0.7995055479601539 \n",
      "--------------------------\n",
      " iter=2048 \n",
      " stopObj=0.21489991020976218 \n",
      " stopFeas=0.0025460750971522 \n",
      " primalObj=-0.8055092269091867 \n",
      "--------------------------\n",
      " iter=4096 \n",
      " stopObj=0.23898884527107644 \n",
      " stopFeas=0.0012134141822112586 \n",
      " primalObj=-0.8082303066545184 \n",
      "--------------------------\n",
      " iter=8192 \n",
      " stopObj=0.17904440988832349 \n",
      " stopFeas=0.0006882442490909619 \n",
      " primalObj=-0.8096507416273369 \n"
     ]
    },
    {
     "ename": "InterruptException",
     "evalue": "InterruptException:",
     "output_type": "error",
     "traceback": [
      "InterruptException:",
      "",
      "Stacktrace:",
      " [1] * at ./boot.jl:404 [inlined]",
      " [2] (::Main.SpectralPOP.var\"#Primitive2#39\"{Bool,Int64,SparseArrays.SparseMatrixCSC{Float64,Int64},SparseArrays.SparseMatrixCSC{UInt64,Int64}})(::Array{Float64,1}, ::Array{Float64,1}) at /home/hoanganh/Desktop/math-topics/SpectralPOP/codes/SpectralPOP/src/POP_CTP.jl:147",
      " [3] (::Main.SpectralPOP.var\"#13#15\"{Main.SpectralPOP.var\"#Primitive1#38\"{Array{Float64,2}},Main.SpectralPOP.var\"#Primitive2#39\"{Bool,Int64,SparseArrays.SparseMatrixCSC{Float64,Int64},SparseArrays.SparseMatrixCSC{UInt64,Int64}}})(::Array{Float64,1}) at /home/hoanganh/Desktop/math-topics/SpectralPOP/codes/SpectralPOP/solvers/SketchyCGAL/CGAL.jl:58",
      " [4] #ApproxMinEvecLanczos#16(::String, ::Bool, ::typeof(Main.SpectralPOP.ApproxMinEvecLanczos), ::Main.SpectralPOP.var\"#13#15\"{Main.SpectralPOP.var\"#Primitive1#38\"{Array{Float64,2}},Main.SpectralPOP.var\"#Primitive2#39\"{Bool,Int64,SparseArrays.SparseMatrixCSC{Float64,Int64},SparseArrays.SparseMatrixCSC{UInt64,Int64}}}, ::UInt32, ::UInt64) at /home/hoanganh/Desktop/math-topics/SpectralPOP/codes/SpectralPOP/solvers/SketchyCGAL/CGAL.jl:139",
      " [5] #ApproxMinEvecLanczos at ./none:0 [inlined]",
      " [6] #CGAL#11(::Float64, ::String, ::Bool, ::typeof(Main.SpectralPOP.CGAL), ::UInt32, ::Main.SpectralPOP.var\"#Primitive1#38\"{Array{Float64,2}}, ::Main.SpectralPOP.var\"#Primitive2#39\"{Bool,Int64,SparseArrays.SparseMatrixCSC{Float64,Int64},SparseArrays.SparseMatrixCSC{UInt64,Int64}}, ::Main.SpectralPOP.var\"#Primitive3#40\"{Bool,Int64,SparseArrays.SparseMatrixCSC{Float64,Int64}}, ::Array{Float32,1}, ::Array{Float64,1}, ::UInt16, ::UInt64) at /home/hoanganh/Desktop/math-topics/SpectralPOP/codes/SpectralPOP/solvers/SketchyCGAL/CGAL.jl:58",
      " [7] #CGAL at ./none:0 [inlined]",
      " [8] #SpectralSDP#35(::String, ::String, ::Float64, ::Bool, ::Bool, ::typeof(Main.SpectralPOP.SpectralSDP), ::Int64, ::Int64, ::Array{Float64,1}, ::SparseArrays.SparseMatrixCSC{Float64,Int64}, ::Array{UInt64,1}, ::Array{Float64,1}, ::SparseArrays.SparseMatrixCSC{UInt64,Int64}, ::Float64) at /home/hoanganh/Desktop/math-topics/SpectralPOP/codes/SpectralPOP/src/POP_CTP.jl:158",
      " [9] #SpectralSDP at ./none:0 [inlined]",
      " [10] macro expansion at ./util.jl:155 [inlined]",
      " [11] macro expansion at /home/hoanganh/Desktop/math-topics/SpectralPOP/codes/SpectralPOP/src/POP_CTP.jl:59 [inlined]",
      " [12] macro expansion at ./util.jl:155 [inlined]",
      " [13] #CTP_POP#33(::String, ::String, ::Float64, ::Bool, ::Bool, ::typeof(Main.SpectralPOP.CTP_POP), ::Array{PolyVar{true},1}, ::Polynomial{true,Float64}, ::Array{Polynomial{true,Float64},1}, ::Int64, ::Float64) at /home/hoanganh/Desktop/math-topics/SpectralPOP/codes/SpectralPOP/src/POP_CTP.jl:48",
      " [14] (::Main.SpectralPOP.var\"#kw##CTP_POP\")(::NamedTuple{(:method, :EigAlg, :tol),Tuple{String,String,Float64}}, ::typeof(Main.SpectralPOP.CTP_POP), ::Array{PolyVar{true},1}, ::Polynomial{true,Float64}, ::Array{Polynomial{true,Float64},1}, ::Int64, ::Float64) at ./none:0",
      " [15] top-level scope at In[9]:3"
     ]
    }
   ],
   "source": [
    "include(\"../src/SpectralPOP.jl\")\n",
    "using .SpectralPOP\n",
    "\n",
    "\n",
    "opt_val,opt_sol = SpectralPOP.CTP_POP(x,f,h,k,R;method=\"SketchyCGAL\",EigAlg=\"Arpack\",tol=1e-3)"
   ]
  },
  {
   "cell_type": "code",
   "execution_count": 13,
   "metadata": {},
   "outputs": [
    {
     "name": "stdout",
     "output_type": "stream",
     "text": [
      "**SumOfSquares+Mosek:\n"
     ]
    },
    {
     "name": "stderr",
     "output_type": "stream",
     "text": [
      "WARNING: replacing module SpectralPOP.\n"
     ]
    },
    {
     "name": "stdout",
     "output_type": "stream",
     "text": [
      "OPTIMAL\n",
      "opt_val=-0.9345495619126011\n",
      "Atomic measure on the variables x[1], x[2], x[3], x[4], x[5], x[6], x[7], x[8], x[9], x[10], x[11], x[12], x[13], x[14], x[15] with 2 atoms:\n",
      " at [0.0, 0.0, 0.0, 0.0, 0.0, 0.0, 0.0, 0.0, 0.0, 0.0, 0.0, 0.0, 0.0, 0.0, 0.9999998371856299] with weight 0.4999999587869575\n",
      " at [0.0, 0.0, 0.0, 0.0, 0.0, 0.0, 0.0, 0.0, 0.0, 0.0, 0.0, 0.0, 0.0, 0.0, -0.9999998371856299] with weight 0.4999999587869576\n",
      "273.770649 seconds (900.31 M allocations: 45.868 GiB, 3.47% gc time)\n"
     ]
    },
    {
     "data": {
      "text/plain": [
       "(-0.9345495619126011, [0.0, 0.0, 0.0, 0.0, 0.0, 0.0, 0.0, 0.0, 0.0, 0.0, 0.0, 0.0, 0.0, 0.0, 0.9999998371856299])"
      ]
     },
     "execution_count": 13,
     "metadata": {},
     "output_type": "execute_result"
    }
   ],
   "source": [
    "include(\"../src/SpectralPOP.jl\")\n",
    "using .SpectralPOP\n",
    "\n",
    "g=Vector{Polynomial{true,Float64}}([])\n",
    "\n",
    "opt_val,opt_sol = SpectralPOP.SumofSquares_POP_WithExtraction(x,f,g,h,k)"
   ]
  },
  {
   "cell_type": "code",
   "execution_count": 34,
   "metadata": {},
   "outputs": [
    {
     "name": "stdout",
     "output_type": "stream",
     "text": [
      "**SumOfSquares+Mosek:\n"
     ]
    },
    {
     "name": "stderr",
     "output_type": "stream",
     "text": [
      "WARNING: replacing module SpectralPOP.\n"
     ]
    },
    {
     "name": "stdout",
     "output_type": "stream",
     "text": [
      "OPTIMAL\n",
      "opt_val=-4.988559447439888\n",
      " 93.079965 seconds (9.16 M allocations: 987.736 MiB, 0.40% gc time)\n"
     ]
    },
    {
     "data": {
      "text/plain": [
       "-4.988559447439888"
      ]
     },
     "execution_count": 34,
     "metadata": {},
     "output_type": "execute_result"
    }
   ],
   "source": [
    "include(\"../src/SpectralPOP.jl\")\n",
    "using .SpectralPOP\n",
    "\n",
    "g=Vector{Polynomial{true,Float64}}([])\n",
    "\n",
    "opt_val = SpectralPOP.SumofSquares_POP(x,f,g,h,k)"
   ]
  },
  {
   "cell_type": "code",
   "execution_count": null,
   "metadata": {},
   "outputs": [],
   "source": []
  }
 ],
 "metadata": {
  "kernelspec": {
   "display_name": "Julia 1.3.0",
   "language": "julia",
   "name": "julia-1.3"
  },
  "language_info": {
   "file_extension": ".jl",
   "mimetype": "application/julia",
   "name": "julia",
   "version": "1.3.0"
  }
 },
 "nbformat": 4,
 "nbformat_minor": 2
}
