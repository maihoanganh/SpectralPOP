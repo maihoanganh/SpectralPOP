{
 "cells": [
  {
   "cell_type": "markdown",
   "metadata": {},
   "source": [
    "The following codes is to set up random problem:"
   ]
  },
  {
   "cell_type": "code",
   "execution_count": 1,
   "metadata": {},
   "outputs": [
    {
     "name": "stdout",
     "output_type": "stream",
     "text": [
      "***Problem setting***\n",
      "Number of variable: n=5\n",
      "====================\n",
      "Number of equality constraints: l=1\n",
      "====================\n",
      "Relaxed order: k=1\n"
     ]
    }
   ],
   "source": [
    "using DynamicPolynomials\n",
    "\n",
    "println(\"***Problem setting***\")\n",
    "\n",
    "n=5\n",
    "\n",
    "\n",
    "println(\"Number of variable: n=\",n)\n",
    "println(\"====================\")\n",
    "\n",
    "@polyvar x[1:n] #variables\n",
    "\n",
    "\n",
    "v=reverse(monomials(x,0:2))\n",
    "c=2*rand(Float64,length(v)).-1\n",
    "f= c'*v #objective function\n",
    "\n",
    "\n",
    "\n",
    "R=1.0\n",
    "h=[R-sum(x.^2)] #sphere constraints\n",
    "\n",
    "l=length(h)\n",
    "\n",
    "println(\"Number of equality constraints: l=\",l)\n",
    "println(\"====================\")\n",
    "\n",
    "k=1 # relaxed order\n",
    "\n",
    "println(\"Relaxed order: k=\",k)\n",
    "\n",
    "\n",
    "# include(\"../src/SpectralSOS.jl\")\n",
    "# using .SpectralSOS\n",
    "\n",
    "# g=Vector{Polynomial{true,Float64}}([])\n",
    "\n",
    "# SpectralSOS.save_data(x,f,g,h,R)\n",
    "\n"
   ]
  },
  {
   "cell_type": "code",
   "execution_count": 2,
   "metadata": {},
   "outputs": [],
   "source": [
    "# using SparseArrays\n",
    "\n",
    "# include(\"../src/SpectralSOS.jl\")\n",
    "# using .SpectralSOS\n",
    "\n",
    "\n",
    "\n",
    "# include(\"../examples/densePOPsphere_deg2_var50_nineq0_neq1.jl\")\n",
    "\n",
    "# x,f,g,h=SpectralPOP.get_SOS(n,m,l,lmon_g,supp_g,coe_g,lmon_h,supp_h,coe_h,lmon_f,supp_f,coe_f);"
   ]
  },
  {
   "cell_type": "markdown",
   "metadata": {},
   "source": [
    "We now use spectral minimization and Proximal bundle method to solve the first order relaxation of above POP."
   ]
  },
  {
   "cell_type": "code",
   "execution_count": 15,
   "metadata": {},
   "outputs": [
    {
     "name": "stdout",
     "output_type": "stream",
     "text": [
      "**Constant trace property (CTP):\n",
      "**Convert moment relaxation to standard SDP:\n",
      "  Size of psd matrix: sk=6\n",
      "  Number of equality trace constraints: m=2\n",
      "  0.042473 seconds (51.60 k allocations: 2.607 MiB)\n",
      "**PB solver:"
     ]
    },
    {
     "name": "stderr",
     "output_type": "stream",
     "text": [
      "WARNING: replacing module SpectralSOS.\n"
     ]
    },
    {
     "name": "stdout",
     "output_type": "stream",
     "text": [
      "\n",
      "Iter 1: fx0 8.611295e-01, fx1 0.000000e+00, fy 8.611295e-01, v -9.505735e-04, u 1.000000e+03, i 0\n",
      "Iter 2: fx0 8.601791e-01, fx1 8.601791e-01, fy 8.601791e-01, v -2.158902e-03, u 1.000000e+03, i 1\n",
      "Iter 3: fx0 8.592293e-01, fx1 8.592293e-01, fy 8.592293e-01, v -1.845049e-03, u 1.000000e+03, i 2\n",
      "Iter 4: fx0 8.582800e-01, fx1 8.582800e-01, fy 8.582800e-01, v -1.716257e-03, u 9.709877e+02, i 1\n",
      "Iter 5: fx0 8.573029e-01, fx1 8.573029e-01, fy 8.573029e-01, v -1.779272e-03, u 8.364012e+02, i 1\n",
      "Iter 6: fx0 8.561693e-01, fx1 8.561693e-01, fy 8.561693e-01, v -2.145126e-03, u 6.070653e+02, i 1\n",
      "Iter 7: fx0 8.546087e-01, fx1 8.546087e-01, fy 8.546087e-01, v -3.405050e-03, u 3.308449e+02, i 1\n",
      "Iter 8: fx0 8.517486e-01, fx1 8.517486e-01, fy 8.517486e-01, v -9.458448e-03, u 1.058940e+02, i 1\n",
      "Iter 9: fx0 8.428386e-01, fx1 8.428386e-01, fy 8.428386e-01, v -7.758028e-02, u 1.227894e+01, i 1\n",
      "Iter 10: fx0 7.676641e-01, fx1 7.676641e-01, fy 7.676641e-01, v -7.036444e-01, u 1.227894e+00, i 1\n",
      "Iter 11: fx0 5.208992e-01, fx1 5.208992e-01, fy 5.208992e-01, v -1.653223e-01, u 1.227894e+00, i 2\n",
      "Iter 12: fx0 4.681654e-01, fx1 4.681654e-01, fy 4.681654e-01, v -3.637399e-02, u 1.227894e+00, i 3\n",
      "Iter 13: fx0 4.611143e-01, fx1 4.611143e-01, fy 4.611143e-01, v -1.141668e-02, u 1.227894e+00, i 4\n",
      "Iter 14: fx0 4.570355e-01, fx1 4.570355e-01, fy 4.570355e-01, v -2.000547e-04, u 6.139470e-01, i 1\n",
      "Iter 15: fx0 4.570355e-01, fx1 4.570355e-01, fy 4.585194e-01, v 3.220374e-04, u 6.139470e-01, i -1\n",
      "TERMINATION: Optimal: v = 0.0003220374498860701\n",
      "  1.031790 seconds (568.09 k allocations: 30.769 MiB)\n",
      "------------------------------------\n",
      "**Numerical result:\n",
      "====================================\n",
      "opt_val=-0.914071013588359\n",
      "====================================\n",
      "Dimension of the null space of Gram matrix = 1\n",
      "------------------------------------\n",
      "atom 1:\n",
      "####################################\n",
      "It is an approximate optimal solution!!!\n",
      "####################################\n",
      "  0.000319 seconds (531 allocations: 32.563 KiB)\n",
      "  1.074997 seconds (621.20 k allocations: 33.428 MiB)\n"
     ]
    },
    {
     "data": {
      "text/plain": [
       "(-0.914071013588359, [-0.150348972119743, -0.05952531708971312, -0.9934740128228765, 0.20030158662356828, -0.03724634613620606])"
      ]
     },
     "execution_count": 15,
     "metadata": {},
     "output_type": "execute_result"
    }
   ],
   "source": [
    "include(\"../src/SpectralSOS.jl\")\n",
    "using .SpectralSOS\n",
    "#using SpectralSOS\n",
    "\n",
    "opt_val,opt_sol = SpectralSOS.CTP_POP(x,f,h,k,R;method=\"PB\",EigAlg=\"Arpack\",tol=1e-5) # Proximal Bundle method"
   ]
  },
  {
   "cell_type": "markdown",
   "metadata": {},
   "source": [
    "# The output from ```CTP_POP```:\n",
    "\n",
    "1) ```opt_val```: the optimal value of the SDP relaxation.\n",
    "\n",
    "2) ```Optimal solution```: the optimal solution of the POP which is the atom satisfying the constraints and the zero gap of lower bound.\n",
    "\n",
    "3) The total time is the final time above in seconds."
   ]
  },
  {
   "cell_type": "markdown",
   "metadata": {},
   "source": [
    "# When using ```CTP_POP```, we have two options as follows:\n",
    "\n",
    "1) ```showEvaluation=true``` to display the following information for LMBM and SketchyCGAL:\n",
    "\n",
    "```linear_oper```:  the number of evaluations of the linear operator\n",
    "\n",
    "```adjoint_oper```:  the number of evaluations of the adjoint operator\n",
    "\n",
    "```max_size```: the largest size of symmetric matrices of which eigenvalues and eigenvectors are computed\n",
    "\n",
    "```num_eig```: the number of symmetric matrices of which eigenvalues and eigenvectors are computed\n",
    "\n",
    "2) ```showNormGrad=true``` to display the norms of all subgradients when using LMBM"
   ]
  },
  {
   "cell_type": "code",
   "execution_count": 4,
   "metadata": {
    "scrolled": true
   },
   "outputs": [
    {
     "name": "stdout",
     "output_type": "stream",
     "text": [
      "**Constant trace property (CTP):\n",
      "**Convert moment relaxation to standard SDP:\n",
      "  Size of psd matrix: sk=6\n",
      "  Number of equality trace constraints: m=2\n",
      "  0.042783 seconds (51.60 k allocations: 2.607 MiB)\n",
      "**SketchyCGAL solver:"
     ]
    },
    {
     "name": "stderr",
     "output_type": "stream",
     "text": [
      "WARNING: replacing module SpectralSOS.\n",
      "WARNING: Compat.Printf is deprecated, use Printf instead.\n",
      "  likely near /home/hoanganh/Desktop/math-topics/SpectralPOP/codes/SpectralSOS/solvers/ProximalBundleMethod/ProximalMethod.jl:389\n",
      "WARNING: Compat.norm is deprecated, use LinearAlgebra.norm instead.\n",
      "  likely near /home/hoanganh/.julia/packages/IJulia/a1SNk/src/kernel.jl:53\n"
     ]
    },
    {
     "name": "stdout",
     "output_type": "stream",
     "text": [
      "\n",
      "- SketchyCGAL SDP Solver - Beta.V.0.0\n",
      "--------------------------\n",
      " iter=1 \n",
      " stopObj=0.6960070921534249 \n",
      " stopFeas=0.5 \n",
      " primalObj=-0.7718106603868117 \n",
      "--------------------------\n",
      " iter=2 \n",
      " stopObj=1.5392956083103333 \n",
      " stopFeas=0.7987289247604363 \n",
      " primalObj=0.10338604254048872 \n",
      "--------------------------\n",
      " iter=4 \n",
      " stopObj=-0.04436735167691497 \n",
      " stopFeas=0.19843657388439973 \n",
      " primalObj=-0.19977683464657667 \n",
      "--------------------------\n",
      " iter=8 \n",
      " stopObj=0.3392803679026266 \n",
      " stopFeas=0.07703392693662549 \n",
      " primalObj=-0.28071698080251384 \n",
      "--------------------------\n",
      " iter=16 \n",
      " stopObj=0.1752945571794759 \n",
      " stopFeas=0.04061075161165561 \n",
      " primalObj=-0.34321058557114315 \n",
      "--------------------------\n",
      " iter=32 \n",
      " stopObj=0.03847805594254905 \n",
      " stopFeas=0.0010811596400653945 \n",
      " primalObj=-0.4208660116910211 \n",
      "--------------------------\n",
      " iter=64 \n",
      " stopObj=0.018555960770682445 \n",
      " stopFeas=0.0009310457206411207 \n",
      " primalObj=-0.43876933230469023 \n",
      "--------------------------\n",
      " iter=128 \n",
      " stopObj=0.011974812231494547 \n",
      " stopFeas=8.186828523279448e-5 \n",
      " primalObj=-0.4449471305894929 \n",
      "* status = stopping criteria met\n",
      "  3.091123 seconds (4.44 M allocations: 219.295 MiB, 10.64% gc time)\n",
      "------------------------------------\n",
      "**Numerical result:\n",
      "====================================\n",
      "opt_val=-0.8900769151977012\n",
      "====================================\n",
      "Rank of moment matrix = 6\n",
      "  0.004146 seconds (408 allocations: 24.453 KiB)\n",
      "----------------------------\n",
      "linear_oper=129\n",
      "adjoint_oper=748\n",
      "max_size=5\n",
      "num_eig=130\n",
      "----------------------------\n",
      "  3.179832 seconds (4.52 M allocations: 223.455 MiB, 10.34% gc time)\n"
     ]
    },
    {
     "data": {
      "text/plain": [
       "(-0.8900769151977012, Array{Float64,1}[])"
      ]
     },
     "execution_count": 4,
     "metadata": {},
     "output_type": "execute_result"
    }
   ],
   "source": [
    "include(\"../src/SpectralSOS.jl\")\n",
    "using .SpectralSOS\n",
    "#using SpectralSOS\n",
    "\n",
    "opt_val,opt_sol = SpectralSOS.CTP_POP(x,f,h,k,R;method=\"SketchyCGAL\",EigAlg=\"Normal\",tol=1e-4,showEvaluation=true)"
   ]
  },
  {
   "cell_type": "code",
   "execution_count": 9,
   "metadata": {
    "scrolled": true
   },
   "outputs": [
    {
     "name": "stdout",
     "output_type": "stream",
     "text": [
      "**Constant trace property (CTP):\n",
      "**Convert moment relaxation to standard SDP:\n",
      "  Size of psd matrix: sk=6\n",
      "  Number of equality trace constraints: m=2\n",
      "  0.043485 seconds (51.60 k allocations: 2.607 MiB)\n",
      "**LMBM solver:"
     ]
    },
    {
     "name": "stderr",
     "output_type": "stream",
     "text": [
      "WARNING: replacing module SpectralSOS.\n",
      "WARNING: Compat.Printf is deprecated, use Printf instead.\n",
      "  likely near /home/hoanganh/Desktop/math-topics/SpectralPOP/codes/SpectralSOS/solvers/ProximalBundleMethod/ProximalMethod.jl:389\n",
      "WARNING: Compat.norm is deprecated, use LinearAlgebra.norm instead.\n",
      "  likely near /home/hoanganh/.julia/packages/IJulia/a1SNk/src/kernel.jl:53\n"
     ]
    },
    {
     "name": "stdout",
     "output_type": "stream",
     "text": [
      "\n",
      "---------------\n",
      "| Parameters: |\n",
      "---------------\n",
      "n:       2\n",
      "maxtime: 300000.000000\n",
      "na:      2\n",
      "mcu:     5\n",
      "mc:      7\n",
      "rpar: \n",
      "ipar: \n",
      "-----------\n",
      "| Output: |\n",
      "-----------\n",
      "Termination:     1\n",
      "N. iter.:        5\n",
      "N. func. eval.:  5\n",
      "Final value:     0.456880\n",
      "Execution time:  0.064148\n",
      "  1.103943 seconds (717.11 k allocations: 39.558 MiB)\n",
      "------------------------------------\n",
      "**Numerical result:\n",
      "====================================\n",
      "opt_val=-0.9137601399813444\n",
      "====================================\n",
      "Dimension of the null space of Gram matrix = 1\n",
      "------------------------------------\n",
      "atom 1:\n",
      "####################################\n",
      "It is an approximate optimal solution!!!\n",
      "####################################\n",
      "  0.000328 seconds (530 allocations: 29.906 KiB)\n",
      "----------------------------\n",
      "norm_grad=[0.9749796241731851, 0.697810766802533, 0.17548892944189928, 0.05649502926652694, 0.0004722877490290371]\n",
      "----------------------------\n",
      "  1.148366 seconds (770.67 k allocations: 42.224 MiB)\n"
     ]
    },
    {
     "data": {
      "text/plain": [
       "(-0.9137601399813444, [-0.15129201489094574, -0.06145833753564244, -0.9660335579312257, 0.19408424713319633, -0.039994645542955815])"
      ]
     },
     "execution_count": 9,
     "metadata": {},
     "output_type": "execute_result"
    }
   ],
   "source": [
    "include(\"../src/SpectralSOS.jl\")\n",
    "using .SpectralSOS\n",
    "#using SpectralSOS\n",
    "\n",
    "opt_val,opt_sol = SpectralSOS.CTP_POP(x,f,h,k,R;method=\"LMBM\",EigAlg=\"Arpack\",tol=1e-5,showNormGrad=true) #Limited memory bundle method"
   ]
  },
  {
   "cell_type": "code",
   "execution_count": 14,
   "metadata": {},
   "outputs": [
    {
     "name": "stdout",
     "output_type": "stream",
     "text": [
      "**SumOfSquares+Mosek:\n",
      "OPTIMAL\n",
      "opt_val=-0.9137600396071252\n",
      "Atomic measure on the variables x[1], x[2], x[3], x[4], x[5] with 1 atoms:\n",
      " at [-0.1512345871368859, -0.06139485688847032, -0.9664661474260309, 0.19418528662578574, -0.03992504075341364] with weight 1.0000000008743322\n",
      "  0.010129 seconds (10.81 k allocations: 1.182 MiB)\n"
     ]
    },
    {
     "name": "stderr",
     "output_type": "stream",
     "text": [
      "WARNING: replacing module SpectralSOS.\n"
     ]
    },
    {
     "data": {
      "text/plain": [
       "(-0.9137600396071252, [-0.1512345871368859, -0.06139485688847032, -0.9664661474260309, 0.19418528662578574, -0.03992504075341364])"
      ]
     },
     "execution_count": 14,
     "metadata": {},
     "output_type": "execute_result"
    }
   ],
   "source": [
    "include(\"../src/SpectralSOS.jl\")\n",
    "using .SpectralSOS\n",
    "#using SpectralSOS\n",
    "\n",
    "g=Vector{Polynomial{true,Float64}}([])\n",
    "\n",
    "opt_val,opt_sol = SpectralSOS.SumofSquares_POP_WithExtraction(x,f,g,h,k) # SumOfSquares.jl + Mosek"
   ]
  },
  {
   "cell_type": "code",
   "execution_count": 13,
   "metadata": {},
   "outputs": [
    {
     "name": "stdout",
     "output_type": "stream",
     "text": [
      "**SumOfSquares+Mosek:\n",
      "OPTIMAL\n",
      "opt_val=-0.9137600396051277\n",
      "  0.008995 seconds (9.45 k allocations: 903.016 KiB)\n"
     ]
    },
    {
     "name": "stderr",
     "output_type": "stream",
     "text": [
      "WARNING: replacing module SpectralSOS.\n"
     ]
    },
    {
     "data": {
      "text/plain": [
       "-0.9137600396051277"
      ]
     },
     "execution_count": 13,
     "metadata": {},
     "output_type": "execute_result"
    }
   ],
   "source": [
    "include(\"../src/SpectralSOS.jl\")\n",
    "using .SpectralSOS\n",
    "#using SpectralSOS\n",
    "\n",
    "g=Vector{Polynomial{true,Float64}}([])\n",
    "\n",
    "opt_val = SpectralSOS.SumofSquares_POP(x,f,g,h,k) #No extraction, but faster than the one which has extraction"
   ]
  },
  {
   "cell_type": "markdown",
   "metadata": {},
   "source": [
    "# The output from ```SumofSquares_POP```:\n",
    "\n",
    "1) ```opt_val```: the optimal value of the SDP relaxation.\n",
    "\n",
    "2) The total time is both the time to model the problem and the time spent by the SDP solver to compute ```opt_val```."
   ]
  },
  {
   "cell_type": "code",
   "execution_count": 7,
   "metadata": {},
   "outputs": [],
   "source": [
    "#SpectralSOS.test_random_dense_quadratic_on_sphere()"
   ]
  },
  {
   "cell_type": "code",
   "execution_count": null,
   "metadata": {},
   "outputs": [],
   "source": []
  }
 ],
 "metadata": {
  "kernelspec": {
   "display_name": "Julia 1.3.0",
   "language": "julia",
   "name": "julia-1.3"
  },
  "language_info": {
   "file_extension": ".jl",
   "mimetype": "application/julia",
   "name": "julia",
   "version": "1.3.0"
  }
 },
 "nbformat": 4,
 "nbformat_minor": 2
}
