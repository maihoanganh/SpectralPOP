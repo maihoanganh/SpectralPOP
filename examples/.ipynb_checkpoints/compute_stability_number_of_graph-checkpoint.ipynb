{
 "cells": [
  {
   "cell_type": "code",
   "execution_count": 5,
   "metadata": {},
   "outputs": [
    {
     "name": "stdout",
     "output_type": "stream",
     "text": [
      "***Problem setting***\n",
      "Number of variables: n=2\n",
      "====================\n",
      "Number of equality constraints: l_h=1\n",
      "====================\n",
      "Relaxation order: k=2\n"
     ]
    }
   ],
   "source": [
    "using DynamicPolynomials, SparseArrays\n",
    "\n",
    "println(\"***Problem setting***\")\n",
    "\n",
    "n=2\n",
    "\n",
    "println(\"Number of variables: n=\",n)\n",
    "println(\"====================\")\n",
    "\n",
    "@polyvar x[1:n]# variables\n",
    "\n",
    "# random quadratic objective function f\n",
    "\n",
    "A=sprand(n, n, 0.5)\n",
    "for i in 1:n\n",
    "    for j=i:n\n",
    "        if i == j\n",
    "            A[j,j]=1\n",
    "        else\n",
    "            A[i,j]=sign(A[j,i])\n",
    "            A[j,i]=A[i,j]\n",
    "        end\n",
    "    end\n",
    "end\n",
    "\n",
    "\n",
    "f=sum(A[i,j]*x[i]^2*x[j]^2 for i=1:n for j=1:n)\n",
    "\n",
    "\n",
    "# unit sphere constraint\n",
    "R=1.0\n",
    "h=[R-sum(x.^2)] #type of coefficients of each polynomial must be float\n",
    "\n",
    "l_h=length(h)\n",
    "\n",
    "println(\"Number of equality constraints: l_h=\",l_h)\n",
    "println(\"====================\")\n",
    "\n",
    "k=Int64(2)\n",
    "\n",
    "println(\"Relaxation order: k=\",k)\n",
    "    \n",
    "# include(\"../src/SpectralSOS.jl\")\n",
    "# using .SpectralSOS\n",
    "\n",
    "# g=Vector{Polynomial{true,Float64}}([]);\n",
    "\n",
    "#SpectralSOS.save_data(x,f,g,h,R)\n",
    "    \n"
   ]
  },
  {
   "cell_type": "code",
   "execution_count": 6,
   "metadata": {},
   "outputs": [
    {
     "name": "stdout",
     "output_type": "stream",
     "text": [
      "**SumOfSquares+Mosek:\n",
      "OPTIMAL\n",
      "opt_val=0.9999999912426965\n",
      "  0.005347 seconds (9.07 k allocations: 864.063 KiB)\n"
     ]
    },
    {
     "name": "stderr",
     "output_type": "stream",
     "text": [
      "WARNING: replacing module SpectralSOS.\n"
     ]
    },
    {
     "data": {
      "text/plain": [
       "0.9999999912426965"
      ]
     },
     "execution_count": 6,
     "metadata": {},
     "output_type": "execute_result"
    }
   ],
   "source": [
    "include(\"../src/SpectralSOS.jl\")\n",
    "using .SpectralSOS\n",
    "\n",
    "g=Vector{Polynomial{true,Float64}}([])\n",
    "\n",
    "opt_val= SpectralSOS.SumofSquares_POP(x,f,g,h,k)"
   ]
  },
  {
   "cell_type": "code",
   "execution_count": 7,
   "metadata": {
    "scrolled": true
   },
   "outputs": [
    {
     "name": "stdout",
     "output_type": "stream",
     "text": [
      "**Constant trace property (CTP):\n",
      "**Converting the moment relaxation to the standard SDP:\n",
      "  Size of psd matrix: sk=6\n",
      "  Number of trace equality constraints: m=13\n",
      "  0.060757 seconds (51.13 k allocations: 2.567 MiB)\n"
     ]
    },
    {
     "name": "stderr",
     "output_type": "stream",
     "text": [
      "WARNING: replacing module SpectralSOS.\n"
     ]
    },
    {
     "name": "stdout",
     "output_type": "stream",
     "text": [
      "**LMBM solver:\n",
      "---------------\n",
      "| Parameters: |\n",
      "---------------\n",
      "n:       13\n",
      "maxtime: 300000.000000\n",
      "na:      2\n",
      "mcu:     5\n",
      "mc:      7\n",
      "rpar: \n",
      "ipar: \n",
      "-----------\n",
      "| Output: |\n",
      "-----------\n",
      "Termination:     2\n",
      "N. iter.:        438\n",
      "N. func. eval.:  1071\n",
      "Final value:     -0.249998\n",
      "Execution time:  0.121521\n",
      "  1.224092 seconds (847.18 k allocations: 47.486 MiB, 1.80% gc time)\n",
      "------------------------------------\n",
      "**Numerical result:\n",
      "====================================\n",
      "opt_val=0.9999933468331504\n",
      "====================================\n",
      "Dimension of the null space of Gram matrix = 5\n",
      "  0.000214 seconds (240 allocations: 20.813 KiB)\n",
      "  1.285523 seconds (899.57 k allocations: 50.095 MiB, 1.71% gc time)\n"
     ]
    },
    {
     "data": {
      "text/plain": [
       "(0.9999933468331504, Array{Float64,1}[])"
      ]
     },
     "execution_count": 7,
     "metadata": {},
     "output_type": "execute_result"
    }
   ],
   "source": [
    "include(\"../src/SpectralSOS.jl\")\n",
    "using .SpectralSOS\n",
    "\n",
    "\n",
    "opt_val,opt_sol = SpectralSOS.CTP_POP(x,f,h,k,R;method=\"LMBM\",EigAlg=\"Mix\",tol=1e-5)"
   ]
  },
  {
   "cell_type": "code",
   "execution_count": 8,
   "metadata": {},
   "outputs": [
    {
     "name": "stdout",
     "output_type": "stream",
     "text": [
      "**Constant trace property (CTP):\n",
      "**Converting the moment relaxation to the standard SDP:\n",
      "  Size of psd matrix: sk=6\n",
      "  Number of trace equality constraints: m=13\n",
      "  0.055623 seconds (51.13 k allocations: 2.566 MiB)\n"
     ]
    },
    {
     "name": "stderr",
     "output_type": "stream",
     "text": [
      "WARNING: replacing module SpectralSOS.\n"
     ]
    },
    {
     "name": "stdout",
     "output_type": "stream",
     "text": [
      "**PB solver:\n",
      "Iter 1: fx0 1.535567e-23, fx1 0.000000e+00, fy 1.535567e-23, v -3.477858e-04, u 1.000000e+03, i 0\n",
      "Iter 2: fx0 1.535567e-23, fx1 1.535567e-23, fy 3.379472e-05, v -3.637672e-04, u 1.000000e+03, i -1\n",
      "Iter 3: fx0 1.535567e-23, fx1 1.535567e-23, fy 2.788954e-04, v -7.575605e-04, u 1.000000e+03, i -2\n",
      "Iter 4: fx0 -3.793373e-05, fx1 -3.793373e-05, fy -3.793373e-05, v -6.748462e-04, u 1.000000e+03, i 1\n",
      "Iter 5: fx0 -1.948378e-04, fx1 -1.948378e-04, fy -1.948378e-04, v -5.425142e-04, u 1.000000e+03, i 2\n",
      "Iter 6: fx0 -2.571215e-04, fx1 -2.571215e-04, fy -2.571215e-04, v -5.207509e-04, u 1.000000e+03, i 3\n",
      "Iter 7: fx0 -4.166695e-04, fx1 -4.166695e-04, fy -4.166695e-04, v -4.494469e-04, u 1.000000e+03, i 4\n",
      "Iter 8: fx0 -4.392409e-04, fx1 -4.392409e-04, fy -4.392409e-04, v -6.219813e-04, u 5.000000e+02, i 1\n",
      "Iter 9: fx0 -7.475275e-04, fx1 -7.475275e-04, fy -7.475275e-04, v -5.123787e-04, u 5.000000e+02, i 2\n",
      "Iter 10: fx0 -9.696745e-04, fx1 -9.696745e-04, fy -9.696745e-04, v -5.144892e-04, u 5.000000e+02, i 3\n",
      "Iter 11: fx0 -1.065559e-03, fx1 -1.065559e-03, fy -1.065559e-03, v -6.165714e-04, u 5.000000e+02, i 4\n",
      "Iter 12: fx0 -1.292069e-03, fx1 -1.292069e-03, fy -1.292069e-03, v -8.438166e-04, u 2.500000e+02, i 1\n",
      "Iter 13: fx0 -1.875899e-03, fx1 -1.875899e-03, fy -1.875899e-03, v -1.029202e-03, u 1.540537e+02, i 1\n",
      "Iter 14: fx0 -2.301626e-03, fx1 -2.301626e-03, fy -2.301626e-03, v -1.318455e-03, u 1.540537e+02, i 2\n",
      "Iter 15: fx0 -3.224290e-03, fx1 -3.224290e-03, fy -3.224290e-03, v -1.691434e-03, u 9.249166e+01, i 1\n",
      "Iter 16: fx0 -4.101745e-03, fx1 -4.101745e-03, fy -4.101745e-03, v -2.071021e-03, u 8.902058e+01, i 1\n",
      "Iter 17: fx0 -5.417174e-03, fx1 -5.417174e-03, fy -5.417174e-03, v -2.517023e-03, u 6.495656e+01, i 1\n",
      "Iter 18: fx0 -7.484739e-03, fx1 -7.484739e-03, fy -7.484739e-03, v -5.437753e-03, u 2.319823e+01, i 1\n",
      "Iter 19: fx0 -1.250937e-02, fx1 -1.250937e-02, fy -1.250937e-02, v -3.318924e-02, u 3.524904e+00, i 1\n",
      "Iter 20: fx0 -4.357372e-02, fx1 -4.357372e-02, fy -4.357372e-02, v -2.399804e-01, u 4.513530e-01, i 1\n",
      "Iter 21: fx0 -1.180067e-01, fx1 -1.180067e-01, fy -1.180067e-01, v -1.308762e-01, u 4.513530e-01, i 2\n",
      "Iter 22: fx0 -2.187393e-01, fx1 -2.187393e-01, fy -2.187393e-01, v -8.959010e-02, u 2.079118e-01, i 1\n",
      "Iter 23: fx0 -2.187393e-01, fx1 -2.187393e-01, fy 1.538500e-01, v -3.181243e-02, u 2.079118e-01, i -1\n",
      "Iter 24: fx0 -2.429113e-01, fx1 -2.429113e-01, fy -2.429113e-01, v -7.778139e-03, u 2.079118e-01, i 1\n",
      "Iter 25: fx0 -2.429113e-01, fx1 -2.429113e-01, fy -2.389170e-01, v -7.900136e-03, u 2.079118e-01, i -1\n",
      "Iter 26: fx0 -2.429113e-01, fx1 -2.429113e-01, fy -2.415653e-01, v -7.450136e-03, u 2.079118e-01, i -2\n",
      "Iter 27: fx0 -2.443128e-01, fx1 -2.443128e-01, fy -2.443128e-01, v -6.476694e-03, u 2.079118e-01, i 1\n",
      "Iter 28: fx0 -2.443128e-01, fx1 -2.443128e-01, fy -2.431460e-01, v -5.885986e-03, u 2.079118e-01, i -1\n",
      "Iter 29: fx0 -2.489532e-01, fx1 -2.489532e-01, fy -2.489532e-01, v -1.432389e-03, u 2.079118e-01, i 1\n",
      "Iter 30: fx0 -2.489532e-01, fx1 -2.489532e-01, fy -2.469773e-01, v -1.258094e-03, u 2.079118e-01, i -1\n",
      "Iter 31: fx0 -2.490918e-01, fx1 -2.490918e-01, fy -2.490918e-01, v -1.080276e-03, u 2.079118e-01, i 1\n",
      "Iter 32: fx0 -2.493161e-01, fx1 -2.493161e-01, fy -2.493161e-01, v -1.007037e-03, u 2.079118e-01, i 2\n",
      "Iter 33: fx0 -2.493768e-01, fx1 -2.493768e-01, fy -2.493768e-01, v -9.152030e-04, u 2.079118e-01, i 3\n",
      "Iter 34: fx0 -2.493768e-01, fx1 -2.493768e-01, fy -2.490662e-01, v -8.067092e-04, u 2.079118e-01, i -1\n",
      "Iter 35: fx0 -2.496138e-01, fx1 -2.496138e-01, fy -2.496138e-01, v -5.598648e-04, u 2.079118e-01, i 1\n",
      "Iter 36: fx0 -2.498225e-01, fx1 -2.498225e-01, fy -2.498225e-01, v -3.232069e-04, u 2.079118e-01, i 2\n",
      "Iter 37: fx0 -2.498225e-01, fx1 -2.498225e-01, fy -2.497340e-01, v -3.007700e-04, u 2.079118e-01, i -1\n",
      "Iter 38: fx0 -2.498225e-01, fx1 -2.498225e-01, fy -2.497666e-01, v -3.079241e-04, u 2.079118e-01, i -2\n",
      "Iter 39: fx0 -2.498225e-01, fx1 -2.498225e-01, fy -2.497933e-01, v -2.882267e-04, u 2.079118e-01, i -3\n",
      "Iter 40: fx0 -2.498713e-01, fx1 -2.498713e-01, fy -2.498713e-01, v -2.273366e-04, u 2.079118e-01, i 1\n",
      "Iter 41: fx0 -2.498713e-01, fx1 -2.498713e-01, fy -2.498377e-01, v -2.420380e-04, u 2.079118e-01, i -1\n",
      "Iter 42: fx0 -2.498713e-01, fx1 -2.498713e-01, fy -2.498376e-01, v -2.022563e-04, u 2.079118e-01, i -2\n",
      "Iter 43: fx0 -2.498713e-01, fx1 -2.498713e-01, fy -2.498660e-01, v -2.217414e-04, u 2.079118e-01, i -3\n",
      "Iter 44: fx0 -2.499129e-01, fx1 -2.499129e-01, fy -2.499129e-01, v -1.787792e-04, u 2.079118e-01, i 1\n",
      "Iter 45: fx0 -2.499129e-01, fx1 -2.499129e-01, fy -2.498874e-01, v -1.666328e-04, u 2.079118e-01, i -1\n",
      "Iter 46: fx0 -2.499129e-01, fx1 -2.499129e-01, fy -2.497352e-01, v -1.609470e-04, u 2.079118e-01, i -2\n",
      "Iter 47: fx0 -2.499217e-01, fx1 -2.499217e-01, fy -2.499217e-01, v -1.515906e-04, u 2.079118e-01, i 1\n",
      "Iter 48: fx0 -2.499217e-01, fx1 -2.499217e-01, fy -2.499126e-01, v -1.527617e-04, u 2.079118e-01, i -1\n",
      "Iter 49: fx0 -2.499217e-01, fx1 -2.499217e-01, fy -2.498751e-01, v -1.468655e-04, u 2.079118e-01, i -2\n",
      "Iter 50: fx0 -2.499359e-01, fx1 -2.499359e-01, fy -2.499359e-01, v -1.264530e-04, u 2.079118e-01, i 1\n",
      "Iter 51: fx0 -2.499359e-01, fx1 -2.499359e-01, fy -2.499248e-01, v -1.259242e-04, u 2.079118e-01, i -1\n",
      "Iter 52: fx0 -2.499359e-01, fx1 -2.499359e-01, fy -2.499342e-01, v -1.174836e-04, u 2.079118e-01, i -2\n",
      "Iter 53: fx0 -2.499392e-01, fx1 -2.499392e-01, fy -2.499392e-01, v -1.159609e-04, u 2.079118e-01, i 1\n",
      "Iter 54: fx0 -2.499471e-01, fx1 -2.499471e-01, fy -2.499471e-01, v -1.044830e-04, u 2.079118e-01, i 2\n",
      "Iter 55: fx0 -2.499498e-01, fx1 -2.499498e-01, fy -2.499498e-01, v -7.683031e-05, u 2.079118e-01, i 3\n",
      "Iter 56: fx0 -2.499498e-01, fx1 -2.499498e-01, fy -2.499098e-01, v -9.161254e-05, u 2.079118e-01, i -1\n",
      "Iter 57: fx0 -2.499498e-01, fx1 -2.499498e-01, fy -2.498942e-01, v -9.462016e-05, u 2.079118e-01, i -2\n",
      "Iter 58: fx0 -2.499498e-01, fx1 -2.499498e-01, fy -2.499192e-01, v -7.265711e-05, u 2.079118e-01, i -3\n",
      "Iter 59: fx0 -2.499498e-01, fx1 -2.499498e-01, fy -2.499410e-01, v -4.904310e-04, u 2.079118e-01, i -4\n",
      "Iter 60: fx0 -2.499498e-01, fx1 -2.499498e-01, fy -2.491582e-01, v -1.545096e-04, u 2.079118e-01, i -5\n",
      "Iter 61: fx0 -2.499498e-01, fx1 -2.499498e-01, fy -2.497760e-01, v -1.204569e-04, u 2.079118e-01, i -6\n",
      "Iter 62: fx0 -2.499498e-01, fx1 -2.499498e-01, fy -2.498612e-01, v -6.818501e-05, u 2.079118e-01, i -7\n",
      "Iter 63: fx0 -2.499619e-01, fx1 -2.499619e-01, fy -2.499619e-01, v -3.841072e-05, u 2.079118e-01, i 1\n",
      "Iter 64: fx0 -2.499619e-01, fx1 -2.499619e-01, fy -2.499142e-01, v -5.525708e-05, u 2.079118e-01, i -1\n",
      "Iter 65: fx0 -2.499715e-01, fx1 -2.499715e-01, fy -2.499715e-01, v -5.473917e-05, u 2.079118e-01, i 1\n",
      "Iter 66: fx0 -2.499715e-01, fx1 -2.499715e-01, fy -2.499694e-01, v -1.037440e-04, u 2.079118e-01, i -1\n",
      "Iter 67: fx0 -2.499715e-01, fx1 -2.499715e-01, fy -2.499130e-01, v -5.498444e-05, u 2.079118e-01, i -2\n",
      "Iter 68: fx0 -2.499779e-01, fx1 -2.499779e-01, fy -2.499779e-01, v -1.067219e-06, u 2.079118e-01, i 1\n",
      "TERMINATION: Optimal: v = -1.067218809547299e-6\n",
      "  1.355713 seconds (754.23 k allocations: 50.110 MiB, 1.94% gc time)\n",
      "------------------------------------\n",
      "**Numerical result:\n",
      "====================================\n",
      "opt_val=0.9999116142633617\n",
      "====================================\n",
      "Dimension of the null space of Gram matrix = 2\n",
      "------------------------------------\n",
      "atom 1:\n",
      "It is not an approximate optimal solution!\n",
      "------------------------------------\n",
      "atom 2:\n",
      "It is not an approximate optimal solution!\n",
      "  0.000356 seconds (578 allocations: 28.938 KiB)\n",
      "  1.412139 seconds (806.94 k allocations: 52.726 MiB, 1.86% gc time)\n"
     ]
    },
    {
     "data": {
      "text/plain": [
       "(0.9999116142633617, Array{Float64,1}[])"
      ]
     },
     "execution_count": 8,
     "metadata": {},
     "output_type": "execute_result"
    }
   ],
   "source": [
    "include(\"../src/SpectralSOS.jl\")\n",
    "using .SpectralSOS\n",
    "\n",
    "\n",
    "opt_val,opt_sol = SpectralSOS.CTP_POP(x,f,h,k,R;method=\"PB\",EigAlg=\"Mix\",tol=1e-5)"
   ]
  },
  {
   "cell_type": "code",
   "execution_count": 16,
   "metadata": {
    "scrolled": true
   },
   "outputs": [],
   "source": [
    "# include(\"../src/SpectralSOS.jl\")\n",
    "# using .SpectralSOS\n",
    "\n",
    "\n",
    "# opt_val,opt_sol = SpectralSOS.CTP_POP(x,f,h,k,R;method=\"SketchyCGAL\",EigAlg=\"Mix\",tol=1e-3)"
   ]
  },
  {
   "cell_type": "code",
   "execution_count": 4,
   "metadata": {},
   "outputs": [],
   "source": [
    "# include(\"../src/SpectralSOS.jl\")\n",
    "# using .SpectralSOS\n",
    "\n",
    "# g=Vector{Polynomial{true,Float64}}([])\n",
    "\n",
    "# opt_val,opt_sol = SpectralSOS.SumofSquares_POP_WithExtraction(x,f,g,h,k)"
   ]
  },
  {
   "cell_type": "code",
   "execution_count": null,
   "metadata": {},
   "outputs": [],
   "source": []
  }
 ],
 "metadata": {
  "kernelspec": {
   "display_name": "Julia 1.3.0",
   "language": "julia",
   "name": "julia-1.3"
  },
  "language_info": {
   "file_extension": ".jl",
   "mimetype": "application/julia",
   "name": "julia",
   "version": "1.3.0"
  }
 },
 "nbformat": 4,
 "nbformat_minor": 2
}
