{
 "cells": [
  {
   "cell_type": "code",
   "execution_count": 20,
   "metadata": {},
   "outputs": [
    {
     "name": "stdout",
     "output_type": "stream",
     "text": [
      "***Problem setting***\n",
      "Number of variable: n=30\n",
      "====================\n",
      "Number of equality constraints: l_h=1\n",
      "====================\n",
      "Relaxed order: k=2\n"
     ]
    },
    {
     "name": "stderr",
     "output_type": "stream",
     "text": [
      "WARNING: replacing module SpectralPOP.\n"
     ]
    }
   ],
   "source": [
    "using DynamicPolynomials\n",
    "\n",
    "println(\"***Problem setting***\")\n",
    "\n",
    "n=3\n",
    "\n",
    "println(\"Number of variable: n=\",n)\n",
    "println(\"====================\")\n",
    "\n",
    "@polyvar x[1:2*n]# variables\n",
    "\n",
    "# random quadratic objective function f\n",
    "A=2*rand(Float64,n,n).-1\n",
    "f=sum(A[i,j]*x[i]*x[j] for i=1:n for j=1:n)\n",
    "\n",
    "\n",
    "# unit sphere constraint\n",
    "R=1.0\n",
    "h=[R-sum(x.^2);x[1:n]-x[n+1:2*n].^2] #type of coefficients of each polynomial must be float\n",
    "\n",
    "l_h=length(h)\n",
    "\n",
    "println(\"Number of equality constraints: l_h=\",l_h)\n",
    "println(\"====================\")\n",
    "\n",
    "k=Int64(1)\n",
    "\n",
    "println(\"Relaxed order: k=\",k)\n",
    "    \n",
    "include(\"../src/SpectralPOP.jl\")\n",
    "using .SpectralPOP\n",
    "\n",
    "g=Vector{Polynomial{true,Float64}}([]);\n",
    "\n",
    "#SpectralPOP.save_data(x,f,g,h,R)\n",
    "    \n"
   ]
  },
  {
   "cell_type": "code",
   "execution_count": null,
   "metadata": {
    "scrolled": true
   },
   "outputs": [
    {
     "name": "stdout",
     "output_type": "stream",
     "text": [
      "**Convert moment relaxation to standard SDP:\n",
      "  Size of psd matrix: sk=496\n",
      "  Number of equality trace constraints: m=77377\n",
      "  4.164008 seconds (3.86 M allocations: 1.084 GiB, 4.97% gc time)\n",
      "**LMBM solver:\n"
     ]
    }
   ],
   "source": [
    "include(\"../src/SpectralPOP.jl\")\n",
    "using .SpectralPOP\n",
    "\n",
    "\n",
    "opt_val,opt_sol = SpectralPOP.CTP_POP(x,f,h,k,R;method=\"LMBM\",EigAlg=\"Mix\",tol=1e-5)"
   ]
  },
  {
   "cell_type": "code",
   "execution_count": 9,
   "metadata": {
    "scrolled": true
   },
   "outputs": [
    {
     "name": "stdout",
     "output_type": "stream",
     "text": [
      "**Convert moment relaxation to standard SDP:\n",
      "  Size of psd matrix: sk=66\n",
      "  Number of equality trace constraints: m=1277\n",
      "  0.052262 seconds (109.57 k allocations: 11.013 MiB)\n",
      "**SketchyCGAL solver:\n"
     ]
    },
    {
     "name": "stderr",
     "output_type": "stream",
     "text": [
      "WARNING: replacing module SpectralPOP.\n"
     ]
    },
    {
     "name": "stdout",
     "output_type": "stream",
     "text": [
      "- SketchyCGAL SDP Solver - Beta.V.0.0\n",
      "--------------------------\n",
      " iter=1 \n",
      " stopObj=4.819977739255371 \n",
      " stopFeas=1.0 \n",
      " primalObj=-0.1148948195761842 \n",
      "--------------------------\n",
      " iter=2 \n",
      " stopObj=49.80994550708464 \n",
      " stopFeas=4.794801524735363 \n",
      " primalObj=-0.036180200541619134 \n",
      "--------------------------\n",
      " iter=4 \n",
      " stopObj=13.814296285712992 \n",
      " stopFeas=1.605100042201573 \n",
      " primalObj=-0.6545084792715133 \n",
      "--------------------------\n",
      " iter=8 \n",
      " stopObj=4.6357770578812865 \n",
      " stopFeas=0.42433975660288065 \n",
      " primalObj=-0.45381829268746815 \n",
      "--------------------------\n",
      " iter=16 \n",
      " stopObj=3.593056639045011 \n",
      " stopFeas=0.4010939710608649 \n",
      " primalObj=-0.6545396029601697 \n",
      "--------------------------\n",
      " iter=32 \n",
      " stopObj=3.0785959897645863 \n",
      " stopFeas=0.18038978485770846 \n",
      " primalObj=-0.5959802583596784 \n",
      "--------------------------\n",
      " iter=64 \n",
      " stopObj=1.733266976441243 \n",
      " stopFeas=0.09948961347451755 \n",
      " primalObj=-0.6367906488298358 \n",
      "--------------------------\n",
      " iter=128 \n",
      " stopObj=0.6578818201720549 \n",
      " stopFeas=0.046561187798630964 \n",
      " primalObj=-0.6773787211019925 \n",
      "--------------------------\n",
      " iter=256 \n",
      " stopObj=0.7051546086924712 \n",
      " stopFeas=0.018652711203896267 \n",
      " primalObj=-0.7263470054412183 \n",
      "--------------------------\n",
      " iter=512 \n",
      " stopObj=0.5343244134536824 \n",
      " stopFeas=0.008178355510144324 \n",
      " primalObj=-0.785864416192801 \n",
      "--------------------------\n",
      " iter=1024 \n",
      " stopObj=0.5021380512781217 \n",
      " stopFeas=0.004583841288856423 \n",
      " primalObj=-0.7995055479601539 \n",
      "--------------------------\n",
      " iter=2048 \n",
      " stopObj=0.21489991020976218 \n",
      " stopFeas=0.0025460750971522 \n",
      " primalObj=-0.8055092269091867 \n",
      "--------------------------\n",
      " iter=4096 \n",
      " stopObj=0.23898884527107644 \n",
      " stopFeas=0.0012134141822112586 \n",
      " primalObj=-0.8082303066545184 \n",
      "--------------------------\n",
      " iter=8192 \n",
      " stopObj=0.17904440988832349 \n",
      " stopFeas=0.0006882442490909619 \n",
      " primalObj=-0.8096507416273369 \n"
     ]
    },
    {
     "ename": "InterruptException",
     "evalue": "InterruptException:",
     "output_type": "error",
     "traceback": [
      "InterruptException:",
      "",
      "Stacktrace:",
      " [1] * at ./boot.jl:404 [inlined]",
      " [2] (::Main.SpectralPOP.var\"#Primitive2#39\"{Bool,Int64,SparseArrays.SparseMatrixCSC{Float64,Int64},SparseArrays.SparseMatrixCSC{UInt64,Int64}})(::Array{Float64,1}, ::Array{Float64,1}) at /home/hoanganh/Desktop/math-topics/SpectralPOP/codes/SpectralPOP/src/POP_CTP.jl:147",
      " [3] (::Main.SpectralPOP.var\"#13#15\"{Main.SpectralPOP.var\"#Primitive1#38\"{Array{Float64,2}},Main.SpectralPOP.var\"#Primitive2#39\"{Bool,Int64,SparseArrays.SparseMatrixCSC{Float64,Int64},SparseArrays.SparseMatrixCSC{UInt64,Int64}}})(::Array{Float64,1}) at /home/hoanganh/Desktop/math-topics/SpectralPOP/codes/SpectralPOP/solvers/SketchyCGAL/CGAL.jl:58",
      " [4] #ApproxMinEvecLanczos#16(::String, ::Bool, ::typeof(Main.SpectralPOP.ApproxMinEvecLanczos), ::Main.SpectralPOP.var\"#13#15\"{Main.SpectralPOP.var\"#Primitive1#38\"{Array{Float64,2}},Main.SpectralPOP.var\"#Primitive2#39\"{Bool,Int64,SparseArrays.SparseMatrixCSC{Float64,Int64},SparseArrays.SparseMatrixCSC{UInt64,Int64}}}, ::UInt32, ::UInt64) at /home/hoanganh/Desktop/math-topics/SpectralPOP/codes/SpectralPOP/solvers/SketchyCGAL/CGAL.jl:139",
      " [5] #ApproxMinEvecLanczos at ./none:0 [inlined]",
      " [6] #CGAL#11(::Float64, ::String, ::Bool, ::typeof(Main.SpectralPOP.CGAL), ::UInt32, ::Main.SpectralPOP.var\"#Primitive1#38\"{Array{Float64,2}}, ::Main.SpectralPOP.var\"#Primitive2#39\"{Bool,Int64,SparseArrays.SparseMatrixCSC{Float64,Int64},SparseArrays.SparseMatrixCSC{UInt64,Int64}}, ::Main.SpectralPOP.var\"#Primitive3#40\"{Bool,Int64,SparseArrays.SparseMatrixCSC{Float64,Int64}}, ::Array{Float32,1}, ::Array{Float64,1}, ::UInt16, ::UInt64) at /home/hoanganh/Desktop/math-topics/SpectralPOP/codes/SpectralPOP/solvers/SketchyCGAL/CGAL.jl:58",
      " [7] #CGAL at ./none:0 [inlined]",
      " [8] #SpectralSDP#35(::String, ::String, ::Float64, ::Bool, ::Bool, ::typeof(Main.SpectralPOP.SpectralSDP), ::Int64, ::Int64, ::Array{Float64,1}, ::SparseArrays.SparseMatrixCSC{Float64,Int64}, ::Array{UInt64,1}, ::Array{Float64,1}, ::SparseArrays.SparseMatrixCSC{UInt64,Int64}, ::Float64) at /home/hoanganh/Desktop/math-topics/SpectralPOP/codes/SpectralPOP/src/POP_CTP.jl:158",
      " [9] #SpectralSDP at ./none:0 [inlined]",
      " [10] macro expansion at ./util.jl:155 [inlined]",
      " [11] macro expansion at /home/hoanganh/Desktop/math-topics/SpectralPOP/codes/SpectralPOP/src/POP_CTP.jl:59 [inlined]",
      " [12] macro expansion at ./util.jl:155 [inlined]",
      " [13] #CTP_POP#33(::String, ::String, ::Float64, ::Bool, ::Bool, ::typeof(Main.SpectralPOP.CTP_POP), ::Array{PolyVar{true},1}, ::Polynomial{true,Float64}, ::Array{Polynomial{true,Float64},1}, ::Int64, ::Float64) at /home/hoanganh/Desktop/math-topics/SpectralPOP/codes/SpectralPOP/src/POP_CTP.jl:48",
      " [14] (::Main.SpectralPOP.var\"#kw##CTP_POP\")(::NamedTuple{(:method, :EigAlg, :tol),Tuple{String,String,Float64}}, ::typeof(Main.SpectralPOP.CTP_POP), ::Array{PolyVar{true},1}, ::Polynomial{true,Float64}, ::Array{Polynomial{true,Float64},1}, ::Int64, ::Float64) at ./none:0",
      " [15] top-level scope at In[9]:3"
     ]
    }
   ],
   "source": [
    "include(\"../src/SpectralPOP.jl\")\n",
    "using .SpectralPOP\n",
    "\n",
    "\n",
    "opt_val,opt_sol = SpectralPOP.CTP_POP(x,f,h,k,R;method=\"SketchyCGAL\",EigAlg=\"Arpack\",tol=1e-3)"
   ]
  },
  {
   "cell_type": "code",
   "execution_count": 13,
   "metadata": {},
   "outputs": [
    {
     "name": "stdout",
     "output_type": "stream",
     "text": [
      "**SumOfSquares+Mosek:\n"
     ]
    },
    {
     "name": "stderr",
     "output_type": "stream",
     "text": [
      "WARNING: replacing module SpectralPOP.\n"
     ]
    },
    {
     "name": "stdout",
     "output_type": "stream",
     "text": [
      "OPTIMAL\n",
      "opt_val=-0.9345495619126011\n",
      "Atomic measure on the variables x[1], x[2], x[3], x[4], x[5], x[6], x[7], x[8], x[9], x[10], x[11], x[12], x[13], x[14], x[15] with 2 atoms:\n",
      " at [0.0, 0.0, 0.0, 0.0, 0.0, 0.0, 0.0, 0.0, 0.0, 0.0, 0.0, 0.0, 0.0, 0.0, 0.9999998371856299] with weight 0.4999999587869575\n",
      " at [0.0, 0.0, 0.0, 0.0, 0.0, 0.0, 0.0, 0.0, 0.0, 0.0, 0.0, 0.0, 0.0, 0.0, -0.9999998371856299] with weight 0.4999999587869576\n",
      "273.770649 seconds (900.31 M allocations: 45.868 GiB, 3.47% gc time)\n"
     ]
    },
    {
     "data": {
      "text/plain": [
       "(-0.9345495619126011, [0.0, 0.0, 0.0, 0.0, 0.0, 0.0, 0.0, 0.0, 0.0, 0.0, 0.0, 0.0, 0.0, 0.0, 0.9999998371856299])"
      ]
     },
     "execution_count": 13,
     "metadata": {},
     "output_type": "execute_result"
    }
   ],
   "source": [
    "include(\"../src/SpectralPOP.jl\")\n",
    "using .SpectralPOP\n",
    "\n",
    "g=Vector{Polynomial{true,Float64}}([])\n",
    "\n",
    "opt_val,opt_sol = SpectralPOP.SumofSquares_POP_WithExtraction(x,f,g,h,k)"
   ]
  },
  {
   "cell_type": "code",
   "execution_count": 21,
   "metadata": {},
   "outputs": [
    {
     "name": "stdout",
     "output_type": "stream",
     "text": [
      "**SumOfSquares+Mosek:\n"
     ]
    },
    {
     "name": "stderr",
     "output_type": "stream",
     "text": [
      "WARNING: replacing module SpectralPOP.\n",
      "WARNING: Force throwing a SIGINT\n"
     ]
    },
    {
     "ename": "InterruptException",
     "evalue": "InterruptException:",
     "output_type": "error",
     "traceback": [
      "InterruptException:",
      "",
      "Stacktrace:",
      " [1] macro expansion at /home/hoanganh/.julia/packages/Mosek/6LuE3/src/Mosek.jl:30 [inlined]",
      " [2] #370 at /home/hoanganh/.julia/packages/Mosek/6LuE3/src/msk_functions.jl:5487 [inlined]",
      " [3] disable_sigint at ./c.jl:446 [inlined]",
      " [4] optimize(::Mosek.Task) at /home/hoanganh/.julia/packages/Mosek/6LuE3/src/msk_functions.jl:5486",
      " [5] optimize!(::MosekTools.MosekModel) at /home/hoanganh/.julia/packages/MosekTools/prFdq/src/MosekTools.jl:282",
      " [6] optimize!(::MathOptInterface.Bridges.LazyBridgeOptimizer{MosekTools.MosekModel}) at /home/hoanganh/.julia/packages/MathOptInterface/bygN7/src/Bridges/bridge_optimizer.jl:239",
      " [7] optimize!(::MathOptInterface.Utilities.CachingOptimizer{MathOptInterface.AbstractOptimizer,MathOptInterface.Utilities.UniversalFallback{MathOptInterface.Utilities.Model{Float64}}}) at /home/hoanganh/.julia/packages/MathOptInterface/bygN7/src/Utilities/cachingoptimizer.jl:189",
      " [8] #optimize!#97(::Bool, ::Bool, ::Base.Iterators.Pairs{Union{},Union{},Tuple{},NamedTuple{(),Tuple{}}}, ::typeof(JuMP.optimize!), ::JuMP.Model, ::Nothing) at /home/hoanganh/.julia/packages/JuMP/YXK4e/src/optimizer_interface.jl:131",
      " [9] optimize! at /home/hoanganh/.julia/packages/JuMP/YXK4e/src/optimizer_interface.jl:107 [inlined] (repeats 2 times)",
      " [10] macro expansion at /home/hoanganh/Desktop/math-topics/SpectralPOP/codes/SpectralPOP/src/POP_SumOfSquares.jl:43 [inlined]",
      " [11] macro expansion at ./util.jl:155 [inlined]",
      " [12] SumofSquares_POP(::Array{PolyVar{true},1}, ::Polynomial{true,Float64}, ::Array{Polynomial{true,Float64},1}, ::Array{Polynomial{true,Float64},1}, ::Int64) at /home/hoanganh/Desktop/math-topics/SpectralPOP/codes/SpectralPOP/src/POP_SumOfSquares.jl:2",
      " [13] top-level scope at In[21]:5"
     ]
    }
   ],
   "source": [
    "include(\"../src/SpectralPOP.jl\")\n",
    "using .SpectralPOP\n",
    "\n",
    "g=Vector{Polynomial{true,Float64}}([])\n",
    "\n",
    "opt_val = SpectralPOP.SumofSquares_POP(x,f,g,h,k)"
   ]
  },
  {
   "cell_type": "code",
   "execution_count": null,
   "metadata": {},
   "outputs": [],
   "source": []
  }
 ],
 "metadata": {
  "kernelspec": {
   "display_name": "Julia 1.3.0",
   "language": "julia",
   "name": "julia-1.3"
  },
  "language_info": {
   "file_extension": ".jl",
   "mimetype": "application/julia",
   "name": "julia",
   "version": "1.3.0"
  }
 },
 "nbformat": 4,
 "nbformat_minor": 2
}
