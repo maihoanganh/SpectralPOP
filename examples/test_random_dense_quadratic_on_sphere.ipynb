{
 "cells": [
  {
   "cell_type": "markdown",
   "metadata": {},
   "source": [
    "The following codes is to set up random problem:"
   ]
  },
  {
   "cell_type": "code",
   "execution_count": 2,
   "metadata": {},
   "outputs": [
    {
     "name": "stdout",
     "output_type": "stream",
     "text": [
      "***Problem setting***\n",
      "Number of variables: n=2\n",
      "====================\n",
      "Number of equality constraints: l=1\n",
      "====================\n",
      "Relaxation order: k=1\n"
     ]
    }
   ],
   "source": [
    "using DynamicPolynomials\n",
    "\n",
    "println(\"***Problem setting***\")\n",
    "\n",
    "n=2\n",
    "\n",
    "\n",
    "println(\"Number of variables: n=\",n)\n",
    "println(\"====================\")\n",
    "\n",
    "@polyvar x[1:n] #variables\n",
    "\n",
    "\n",
    "v=reverse(monomials(x,0:2))\n",
    "c=2*rand(Float64,length(v)).-1\n",
    "f= c'*v #objective function\n",
    "\n",
    "\n",
    "\n",
    "R=1.0\n",
    "h=[R-sum(x.^2)] #sphere constraints\n",
    "\n",
    "l=length(h)\n",
    "\n",
    "println(\"Number of equality constraints: l=\",l)\n",
    "println(\"====================\")\n",
    "\n",
    "k=1 # relaxed order\n",
    "\n",
    "println(\"Relaxation order: k=\",k)\n",
    "\n",
    "\n",
    "# include(\"../src/SpectralSOS.jl\")\n",
    "# using .SpectralSOS\n",
    "\n",
    "# g=Vector{Polynomial{true,Float64}}([])\n",
    "\n",
    "# SpectralSOS.save_data(x,f,g,h,R)\n",
    "\n"
   ]
  },
  {
   "cell_type": "code",
   "execution_count": 2,
   "metadata": {},
   "outputs": [],
   "source": [
    "# using SparseArrays\n",
    "\n",
    "# include(\"../src/SpectralSOS.jl\")\n",
    "# using .SpectralSOS\n",
    "\n",
    "\n",
    "\n",
    "# include(\"../examples/densePOPsphere_deg2_var50_nineq0_neq1.jl\")\n",
    "\n",
    "# x,f,g,h=SpectralPOP.get_SOS(n,m,l,lmon_g,supp_g,coe_g,lmon_h,supp_h,coe_h,lmon_f,supp_f,coe_f);"
   ]
  },
  {
   "cell_type": "markdown",
   "metadata": {},
   "source": [
    "We now use spectral minimization and Proximal bundle method to solve the first order relaxation of above POP."
   ]
  },
  {
   "cell_type": "code",
   "execution_count": 8,
   "metadata": {},
   "outputs": [
    {
     "name": "stdout",
     "output_type": "stream",
     "text": [
      "**Constant trace property (CTP):\n",
      "**Converting the moment relaxation to the standard SDP:\n",
      "  Size of psd matrix: sk=3\n",
      "  Number of trace equality constraints: m=2\n",
      "  0.041903 seconds (50.78 k allocations: 2.784 MiB)\n"
     ]
    },
    {
     "name": "stderr",
     "output_type": "stream",
     "text": [
      "WARNING: replacing module SpectralSOS.\n"
     ]
    },
    {
     "name": "stdout",
     "output_type": "stream",
     "text": [
      "**PB solver:\n",
      "Iter 1: fx0 4.682115e-02, fx1 0.000000e+00, fy 4.682115e-02, v -9.973388e-04, u 1.000000e+03, i 0\n",
      "Iter 2: fx0 4.582462e-02, fx1 4.582462e-02, fy 4.582462e-02, v -1.954759e-03, u 1.000000e+03, i 1\n",
      "Iter 3: fx0 4.483058e-02, fx1 4.483058e-02, fy 4.483058e-02, v -1.657305e-03, u 9.829579e+02, i 1\n",
      "Iter 4: fx0 4.382193e-02, fx1 4.382193e-02, fy 4.382193e-02, v -1.780003e-03, u 7.694465e+02, i 1\n",
      "Iter 5: fx0 4.253721e-02, fx1 4.253721e-02, fy 4.253721e-02, v -2.711996e-03, u 4.281954e+02, i 1\n",
      "Iter 6: fx0 4.023893e-02, fx1 4.023893e-02, fy 4.023893e-02, v -7.905962e-03, u 1.306408e+02, i 1\n",
      "Iter 7: fx0 3.279874e-02, fx1 3.279874e-02, fy 3.279874e-02, v -6.097490e-02, u 1.539327e+01, i 1\n",
      "Iter 8: fx0 -7.516806e-03, fx1 -7.516806e-03, fy -7.516806e-03, v -3.509008e-03, u 1.043101e+01, i 1\n",
      "Iter 9: fx0 -7.516806e-03, fx1 -7.516806e-03, fy -4.439008e-03, v -1.640532e-03, u 1.043101e+01, i -1\n",
      "Iter 10: fx0 -7.661903e-03, fx1 -7.661903e-03, fy -7.661903e-03, v -6.849178e-04, u 1.043101e+01, i 1\n",
      "Iter 11: fx0 -7.967323e-03, fx1 -7.967323e-03, fy -7.967323e-03, v -3.957594e-06, u 1.043101e+01, i 2\n",
      "TERMINATION: Optimal: v = -3.957593554372932e-6\n",
      "  1.052478 seconds (558.32 k allocations: 30.184 MiB)\n",
      "------------------------------------\n",
      "**Numerical result:\n",
      "====================================\n",
      "opt_val=0.015934646011392065\n",
      "====================================\n",
      "Dimension of the null space of Gram matrix = 1\n",
      "------------------------------------\n",
      "atom 1:\n",
      "####################################\n",
      "It is an approximate optimal solution!\n",
      "####################################\n",
      "  0.000298 seconds (427 allocations: 18.234 KiB)\n",
      "  1.095135 seconds (610.46 k allocations: 33.006 MiB)\n"
     ]
    },
    {
     "data": {
      "text/plain": [
       "(0.015934646011392065, [0.6484622236384777, -0.7687966827560831])"
      ]
     },
     "execution_count": 8,
     "metadata": {},
     "output_type": "execute_result"
    }
   ],
   "source": [
    "include(\"../src/SpectralSOS.jl\")\n",
    "using .SpectralSOS\n",
    "#using SpectralSOS\n",
    "\n",
    "opt_val,opt_sol = SpectralSOS.CTP_POP(x,f,h,k,R;method=\"PB\",EigAlg=\"Arpack\",tol=1e-5) # Proximal Bundle method"
   ]
  },
  {
   "cell_type": "markdown",
   "metadata": {},
   "source": [
    "# The output from ```CTP_POP```:\n",
    "\n",
    "1) ```opt_val```: the optimal value of the SDP relaxation.\n",
    "\n",
    "2) ```Optimal solution```: the optimal solution of the POP which is the atom satisfying the constraints and the zero gap of lower bound.\n",
    "\n",
    "3) The total time is the final time above in seconds."
   ]
  },
  {
   "cell_type": "markdown",
   "metadata": {},
   "source": [
    "# When using ```CTP_POP```, we have two options as follows:\n",
    "\n",
    "1) ```showEvaluation=true``` to display the following information for LMBM and SketchyCGAL:\n",
    "\n",
    "```linear_oper```:  the number of evaluations of the linear operator\n",
    "\n",
    "```adjoint_oper```:  the number of evaluations of the adjoint operator\n",
    "\n",
    "```max_size```: the largest size of symmetric matrices of which eigenvalues and eigenvectors are computed\n",
    "\n",
    "```num_eig```: the number of symmetric matrices of which eigenvalues and eigenvectors are computed\n",
    "\n",
    "2) ```showNormGrad=true``` to display the norms of all subgradients when using LMBM"
   ]
  },
  {
   "cell_type": "code",
   "execution_count": 9,
   "metadata": {
    "scrolled": true
   },
   "outputs": [
    {
     "name": "stdout",
     "output_type": "stream",
     "text": [
      "**Constant trace property (CTP):\n",
      "**Converting the moment relaxation to the standard SDP:\n",
      "  Size of psd matrix: sk=3\n",
      "  Number of trace equality constraints: m=2\n",
      "  0.042033 seconds (50.78 k allocations: 2.550 MiB)\n"
     ]
    },
    {
     "name": "stderr",
     "output_type": "stream",
     "text": [
      "WARNING: replacing module SpectralSOS.\n"
     ]
    },
    {
     "name": "stdout",
     "output_type": "stream",
     "text": [
      "**SketchyCGAL solver:\n",
      "* status = stopping criteria met\n",
      "  0.916107 seconds (552.24 k allocations: 30.212 MiB)\n",
      "------------------------------------\n",
      "**Numerical result:\n",
      "====================================\n",
      "opt_val=0.08808863550335501\n",
      "====================================\n",
      "Rank of moment matrix = 3\n",
      "  0.000036 seconds (73 allocations: 3.141 KiB)\n",
      "----------------------------\n",
      "linear_oper=147\n",
      "adjoint_oper=444\n",
      "max_size=2\n",
      "num_eig=148\n",
      "----------------------------\n",
      "  0.958720 seconds (604.31 k allocations: 32.793 MiB)\n"
     ]
    },
    {
     "data": {
      "text/plain": [
       "(0.08808863550335501, Array{Float64,1}[])"
      ]
     },
     "execution_count": 9,
     "metadata": {},
     "output_type": "execute_result"
    }
   ],
   "source": [
    "include(\"../src/SpectralSOS.jl\")\n",
    "using .SpectralSOS\n",
    "#using SpectralSOS\n",
    "\n",
    "opt_val,opt_sol = SpectralSOS.CTP_POP(x,f,h,k,R;method=\"SketchyCGAL\",EigAlg=\"Normal\",tol=1e-4,showEvaluation=true)"
   ]
  },
  {
   "cell_type": "code",
   "execution_count": 10,
   "metadata": {
    "scrolled": true
   },
   "outputs": [
    {
     "name": "stdout",
     "output_type": "stream",
     "text": [
      "**Constant trace property (CTP):\n",
      "**Converting the moment relaxation to the standard SDP:\n",
      "  Size of psd matrix: sk=3\n",
      "  Number of trace equality constraints: m=2\n",
      "  0.056236 seconds (50.77 k allocations: 2.534 MiB)\n"
     ]
    },
    {
     "name": "stderr",
     "output_type": "stream",
     "text": [
      "WARNING: replacing module SpectralSOS.\n"
     ]
    },
    {
     "name": "stdout",
     "output_type": "stream",
     "text": [
      "**LMBM solver:\n",
      "---------------\n",
      "| Parameters: |\n",
      "---------------\n",
      "n:       2\n",
      "maxtime: 300000.000000\n",
      "na:      2\n",
      "mcu:     5\n",
      "mc:      7\n",
      "rpar: \n",
      "ipar: \n",
      "-----------\n",
      "| Output: |\n",
      "-----------\n",
      "Termination:     1\n",
      "N. iter.:        10\n",
      "N. func. eval.:  10\n",
      "Final value:     -0.007968\n",
      "Execution time:  0.067429\n",
      "  1.143446 seconds (717.61 k allocations: 39.573 MiB)\n",
      "------------------------------------\n",
      "**Numerical result:\n",
      "====================================\n",
      "opt_val=0.015935364089888125\n",
      "====================================\n",
      "Dimension of the null space of Gram matrix = 1\n",
      "------------------------------------\n",
      "atom 1:\n",
      "####################################\n",
      "It is an approximate optimal solution!\n",
      "####################################\n",
      "  0.000265 seconds (428 allocations: 19.297 KiB)\n",
      "----------------------------\n",
      "norm_grad=[0.9986737387465388, 1.1176614650514771, 0.9451217363156944, 0.982692061611941, 0.5860964501648946, 1.0445587152289342, 0.3150465349699989, 0.26008590810794224, 0.09042355327474616, 0.0030824206901973036]\n",
      "----------------------------\n",
      "  1.200682 seconds (770.54 k allocations: 42.163 MiB)\n"
     ]
    },
    {
     "data": {
      "text/plain": [
       "(0.015935364089888125, [0.6417095946579322, -0.7633544096131458])"
      ]
     },
     "execution_count": 10,
     "metadata": {},
     "output_type": "execute_result"
    }
   ],
   "source": [
    "include(\"../src/SpectralSOS.jl\")\n",
    "using .SpectralSOS\n",
    "#using SpectralSOS\n",
    "\n",
    "opt_val,opt_sol = SpectralSOS.CTP_POP(x,f,h,k,R;method=\"LMBM\",EigAlg=\"Arpack\",tol=1e-5,showNormGrad=true) #Limited memory bundle method"
   ]
  },
  {
   "cell_type": "code",
   "execution_count": 11,
   "metadata": {},
   "outputs": [
    {
     "name": "stdout",
     "output_type": "stream",
     "text": [
      "**SumOfSquares+Mosek:\n",
      "OPTIMAL\n",
      "opt_val=0.01593557954187779\n",
      "Atomic measure on the variables x[1], x[2] with 1 atoms:\n",
      " at [0.6439010547922033, -0.7651087701644322] with weight 0.9999999991884458\n",
      "  0.008826 seconds (5.53 k allocations: 526.141 KiB)\n"
     ]
    },
    {
     "name": "stderr",
     "output_type": "stream",
     "text": [
      "WARNING: replacing module SpectralSOS.\n"
     ]
    },
    {
     "data": {
      "text/plain": [
       "(0.01593557954187779, [0.6439010547922033, -0.7651087701644322])"
      ]
     },
     "execution_count": 11,
     "metadata": {},
     "output_type": "execute_result"
    }
   ],
   "source": [
    "include(\"../src/SpectralSOS.jl\")\n",
    "using .SpectralSOS\n",
    "#using SpectralSOS\n",
    "\n",
    "g=Vector{Polynomial{true,Float64}}([])\n",
    "\n",
    "opt_val,opt_sol = SpectralSOS.SumofSquares_POP_WithExtraction(x,f,g,h,k) # SumOfSquares.jl + Mosek"
   ]
  },
  {
   "cell_type": "code",
   "execution_count": 12,
   "metadata": {},
   "outputs": [
    {
     "name": "stdout",
     "output_type": "stream",
     "text": [
      "**SumOfSquares+Mosek:\n",
      "OPTIMAL\n",
      "opt_val=0.015935579541873336\n",
      "  0.006636 seconds (4.83 k allocations: 374.703 KiB)\n"
     ]
    },
    {
     "name": "stderr",
     "output_type": "stream",
     "text": [
      "WARNING: replacing module SpectralSOS.\n"
     ]
    },
    {
     "data": {
      "text/plain": [
       "0.015935579541873336"
      ]
     },
     "execution_count": 12,
     "metadata": {},
     "output_type": "execute_result"
    }
   ],
   "source": [
    "include(\"../src/SpectralSOS.jl\")\n",
    "using .SpectralSOS\n",
    "#using SpectralSOS\n",
    "\n",
    "g=Vector{Polynomial{true,Float64}}([])\n",
    "\n",
    "opt_val = SpectralSOS.SumofSquares_POP(x,f,g,h,k) #No extraction, but faster than the one which has extraction"
   ]
  },
  {
   "cell_type": "markdown",
   "metadata": {},
   "source": [
    "# The output from ```SumofSquares_POP```:\n",
    "\n",
    "1) ```opt_val```: the optimal value of the SDP relaxation.\n",
    "\n",
    "2) The total time is both the time to model the problem and the time spent by the SDP solver to compute ```opt_val```."
   ]
  },
  {
   "cell_type": "code",
   "execution_count": 13,
   "metadata": {},
   "outputs": [],
   "source": [
    "#SpectralSOS.test_random_dense_quadratic_on_sphere()"
   ]
  },
  {
   "cell_type": "code",
   "execution_count": null,
   "metadata": {},
   "outputs": [],
   "source": []
  }
 ],
 "metadata": {
  "kernelspec": {
   "display_name": "Julia 1.3.0",
   "language": "julia",
   "name": "julia-1.3"
  },
  "language_info": {
   "file_extension": ".jl",
   "mimetype": "application/julia",
   "name": "julia",
   "version": "1.3.0"
  }
 },
 "nbformat": 4,
 "nbformat_minor": 2
}
